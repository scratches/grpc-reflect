{
 "cells": [
  {
   "cell_type": "code",
   "execution_count": 1,
   "id": "bf3bc707",
   "metadata": {},
   "outputs": [
    {
     "name": "stdout",
     "output_type": "stream",
     "text": [
      "Hello World!\n"
     ]
    }
   ],
   "source": [
    "System.out.println(\"Hello World!\")"
   ]
  },
  {
   "cell_type": "code",
   "execution_count": 3,
   "id": "3e4152e6",
   "metadata": {},
   "outputs": [
    {
     "name": "stdout",
     "output_type": "stream",
     "text": [
      "\u001b[0m\u001b[32mFound 164 jar files.\n",
      "\u001b[0m\u001b[0m\u001b[32mAdd /home/dsyer/dev/scratch/grpc-reflect/samples/app/target/lib/netty-resolver-4.1.124.Final.jar to classpath\n",
      "\u001b[0m\u001b[0m\u001b[32mAdd /home/dsyer/dev/scratch/grpc-reflect/samples/app/target/lib/spring-boot-test-autoconfigure-3.5.4.jar to classpath\n",
      "\u001b[0m\u001b[0m\u001b[32mAdd /home/dsyer/dev/scratch/grpc-reflect/samples/app/target/lib/jakarta.activation-api-2.1.3.jar to classpath\n",
      "\u001b[0m\u001b[0m\u001b[32mAdd /home/dsyer/dev/scratch/grpc-reflect/samples/app/target/lib/micrometer-core-1.15.3.jar to classpath\n",
      "\u001b[0m\u001b[0m\u001b[32mAdd /home/dsyer/dev/scratch/grpc-reflect/samples/app/target/lib/spring-test-6.2.10.jar to classpath\n",
      "\u001b[0m\u001b[0m\u001b[32mAdd /home/dsyer/dev/scratch/grpc-reflect/samples/app/target/lib/assertj-core-3.27.3.jar to classpath\n",
      "\u001b[0m\u001b[0m\u001b[32mAdd /home/dsyer/dev/scratch/grpc-reflect/samples/app/target/lib/accessors-smart-2.5.2.jar to classpath\n",
      "\u001b[0m\u001b[0m\u001b[32mAdd /home/dsyer/dev/scratch/grpc-reflect/samples/app/target/lib/junit-4.13.2.jar to classpath\n",
      "\u001b[0m\u001b[0m\u001b[32mAdd /home/dsyer/dev/scratch/grpc-reflect/samples/app/target/lib/netty-codec-http-4.1.124.Final.jar to classpath\n",
      "\u001b[0m\u001b[0m\u001b[32mAdd /home/dsyer/dev/scratch/grpc-reflect/samples/app/target/lib/spring-grpc-test-0.11.0-SNAPSHOT.jar to classpath\n",
      "\u001b[0m\u001b[0m\u001b[32mAdd /home/dsyer/dev/scratch/grpc-reflect/samples/app/target/lib/objenesis-3.3.jar to classpath\n",
      "\u001b[0m\u001b[0m\u001b[32mAdd /home/dsyer/dev/scratch/grpc-reflect/samples/app/target/lib/spring-grpc-spring-boot-starter-0.12.0-SNAPSHOT.jar to classpath\n",
      "\u001b[0m\u001b[0m\u001b[32mAdd /home/dsyer/dev/scratch/grpc-reflect/samples/app/target/lib/android-json-0.0.20131108.vaadin1.jar to classpath\n",
      "\u001b[0m\u001b[0m\u001b[32mAdd /home/dsyer/dev/scratch/grpc-reflect/samples/app/target/lib/gson-2.13.1.jar to classpath\n",
      "\u001b[0m\u001b[0m\u001b[32mAdd /home/dsyer/dev/scratch/grpc-reflect/samples/app/target/lib/spring-aop-6.2.10.jar to classpath\n",
      "\u001b[0m\u001b[0m\u001b[32mAdd /home/dsyer/dev/scratch/grpc-reflect/samples/app/target/lib/jackson-annotations-2.19.2.jar to classpath\n",
      "\u001b[0m\u001b[0m\u001b[32mAdd /home/dsyer/dev/scratch/grpc-reflect/samples/app/target/lib/grpc-testing-1.74.0.jar to classpath\n",
      "\u001b[0m\u001b[0m\u001b[32mAdd /home/dsyer/dev/scratch/grpc-reflect/samples/app/target/lib/json-path-2.9.0.jar to classpath\n",
      "\u001b[0m\u001b[0m\u001b[32mAdd /home/dsyer/dev/scratch/grpc-reflect/samples/app/target/lib/spring-boot-3.5.4.jar to classpath\n",
      "\u001b[0m\u001b[0m\u001b[32mAdd /home/dsyer/dev/scratch/grpc-reflect/samples/app/target/lib/grpc-services-1.74.0.jar to classpath\n",
      "\u001b[0m\u001b[0m\u001b[32mAdd /home/dsyer/dev/scratch/grpc-reflect/samples/app/target/lib/protobuf-java-util-4.31.1.jar to classpath\n",
      "\u001b[0m\u001b[0m\u001b[32mAdd /home/dsyer/dev/scratch/grpc-reflect/samples/app/target/lib/byte-buddy-1.17.7.jar to classpath\n",
      "\u001b[0m\u001b[0m\u001b[32mAdd /home/dsyer/dev/scratch/grpc-reflect/samples/app/target/lib/netty-codec-socks-4.1.123.Final.jar to classpath\n",
      "\u001b[0m\u001b[0m\u001b[32mAdd /home/dsyer/dev/scratch/grpc-reflect/samples/app/target/lib/spring-grpc-parser-0.11.0-SNAPSHOT.jar to classpath\n",
      "\u001b[0m\u001b[0m\u001b[32mAdd /home/dsyer/dev/scratch/grpc-reflect/samples/app/target/lib/grpc-protobuf-1.74.0.jar to classpath\n",
      "\u001b[0m\u001b[0m\u001b[32mAdd /home/dsyer/dev/scratch/grpc-reflect/samples/app/target/lib/protobuf-java-util-4.30.2.jar to classpath\n",
      "\u001b[0m\u001b[0m\u001b[32mAdd /home/dsyer/dev/scratch/grpc-reflect/samples/app/target/lib/byte-buddy-1.17.6.jar to classpath\n",
      "\u001b[0m\u001b[0m\u001b[32mAdd /home/dsyer/dev/scratch/grpc-reflect/samples/app/target/lib/netty-resolver-4.1.123.Final.jar to classpath\n",
      "\u001b[0m\u001b[0m\u001b[32mAdd /home/dsyer/dev/scratch/grpc-reflect/samples/app/target/lib/spring-boot-actuator-3.5.5.jar to classpath\n",
      "\u001b[0m\u001b[0m\u001b[32mAdd /home/dsyer/dev/scratch/grpc-reflect/samples/app/target/lib/spring-context-6.2.10.jar to classpath\n",
      "\u001b[0m\u001b[0m\u001b[32mAdd /home/dsyer/dev/scratch/grpc-reflect/samples/app/target/lib/spring-core-6.2.9.jar to classpath\n",
      "\u001b[0m\u001b[0m\u001b[32mAdd /home/dsyer/dev/scratch/grpc-reflect/samples/app/target/lib/spring-boot-starter-test-3.5.5.jar to classpath\n",
      "\u001b[0m\u001b[0m\u001b[32mAdd /home/dsyer/dev/scratch/grpc-reflect/samples/app/target/lib/opentest4j-1.3.0.jar to classpath\n",
      "\u001b[0m\u001b[0m\u001b[32mAdd /home/dsyer/dev/scratch/grpc-reflect/samples/app/target/lib/spring-grpc-client-spring-boot-starter-0.11.0-SNAPSHOT.jar to classpath\n",
      "\u001b[0m\u001b[0m\u001b[32mAdd /home/dsyer/dev/scratch/grpc-reflect/samples/app/target/lib/netty-handler-proxy-4.1.123.Final.jar to classpath\n",
      "\u001b[0m\u001b[0m\u001b[32mAdd /home/dsyer/dev/scratch/grpc-reflect/samples/app/target/lib/netty-codec-http2-4.1.124.Final.jar to classpath\n",
      "\u001b[0m\u001b[0m\u001b[32mAdd /home/dsyer/dev/scratch/grpc-reflect/samples/app/target/lib/junit-jupiter-engine-5.12.2.jar to classpath\n",
      "\u001b[0m\u001b[0m\u001b[32mAdd /home/dsyer/dev/scratch/grpc-reflect/samples/app/target/lib/jakarta.annotation-api-2.1.1.jar to classpath\n",
      "\u001b[0m\u001b[0m\u001b[32mAdd /home/dsyer/dev/scratch/grpc-reflect/samples/app/target/lib/junit-jupiter-api-5.12.2.jar to classpath\n",
      "\u001b[0m\u001b[0m\u001b[32mAdd /home/dsyer/dev/scratch/grpc-reflect/samples/app/target/lib/json-smart-2.5.2.jar to classpath\n",
      "\u001b[0m\u001b[0m\u001b[32mAdd /home/dsyer/dev/scratch/grpc-reflect/samples/app/target/lib/jsonassert-1.5.3.jar to classpath\n",
      "\u001b[0m\u001b[0m\u001b[32mAdd /home/dsyer/dev/scratch/grpc-reflect/samples/app/target/lib/spring-grpc-client-spring-boot-starter-0.12.0-SNAPSHOT.jar to classpath\n",
      "\u001b[0m\u001b[0m\u001b[32mAdd /home/dsyer/dev/scratch/grpc-reflect/samples/app/target/lib/icu4j-72.1.jar to classpath\n",
      "\u001b[0m\u001b[0m\u001b[32mAdd /home/dsyer/dev/scratch/grpc-reflect/samples/app/target/lib/spring-expression-6.2.9.jar to classpath\n",
      "\u001b[0m\u001b[0m\u001b[32mAdd /home/dsyer/dev/scratch/grpc-reflect/samples/app/target/lib/log4j-api-2.24.3.jar to classpath\n",
      "\u001b[0m\u001b[0m\u001b[32mAdd /home/dsyer/dev/scratch/grpc-reflect/samples/app/target/lib/jackson-core-2.19.2.jar to classpath\n",
      "\u001b[0m\u001b[0m\u001b[32mAdd /home/dsyer/dev/scratch/grpc-reflect/samples/app/target/lib/mockito-core-5.17.0.jar to classpath\n",
      "\u001b[0m\u001b[0m\u001b[32mAdd /home/dsyer/dev/scratch/grpc-reflect/samples/app/target/lib/netty-transport-classes-epoll-4.1.123.Final.jar to classpath\n",
      "\u001b[0m\u001b[0m\u001b[32mAdd /home/dsyer/dev/scratch/grpc-reflect/samples/app/target/lib/junit-platform-engine-1.12.2.jar to classpath\n",
      "\u001b[0m\u001b[0m\u001b[32mAdd /home/dsyer/dev/scratch/grpc-reflect/samples/app/target/lib/spring-aop-6.2.9.jar to classpath\n",
      "\u001b[0m\u001b[0m\u001b[32mAdd /home/dsyer/dev/scratch/grpc-reflect/samples/app/target/lib/netty-transport-4.1.124.Final.jar to classpath\n",
      "\u001b[0m\u001b[0m\u001b[32mAdd /home/dsyer/dev/scratch/grpc-reflect/samples/app/target/lib/proto-google-common-protos-2.54.1.jar to classpath\n",
      "\u001b[0m\u001b[0m\u001b[32mAdd /home/dsyer/dev/scratch/grpc-reflect/samples/app/target/lib/grpc-core-1.74.0.jar to classpath\n",
      "\u001b[0m\u001b[0m\u001b[32mAdd /home/dsyer/dev/scratch/grpc-reflect/samples/app/target/lib/micrometer-observation-1.15.2.jar to classpath\n",
      "\u001b[0m\u001b[0m\u001b[32mAdd /home/dsyer/dev/scratch/grpc-reflect/samples/app/target/lib/grpc-inprocess-1.74.0.jar to classpath\n",
      "\u001b[0m\u001b[0m\u001b[32mAdd /home/dsyer/dev/scratch/grpc-reflect/samples/app/target/lib/log4j-to-slf4j-2.24.3.jar to classpath\n",
      "\u001b[0m\u001b[0m\u001b[32mAdd /home/dsyer/dev/scratch/grpc-reflect/samples/app/target/lib/spring-jcl-6.2.10.jar to classpath\n",
      "\u001b[0m\u001b[0m\u001b[32mAdd /home/dsyer/dev/scratch/grpc-reflect/samples/app/target/lib/spring-boot-starter-actuator-3.5.5.jar to classpath\n",
      "\u001b[0m\u001b[0m\u001b[32mAdd /home/dsyer/dev/scratch/grpc-reflect/samples/app/target/lib/jackson-databind-2.19.2.jar to classpath\n",
      "\u001b[0m\u001b[0m\u001b[32mAdd /home/dsyer/dev/scratch/grpc-reflect/samples/app/target/lib/spring-boot-actuator-autoconfigure-3.5.4.jar to classpath\n",
      "\u001b[0m\u001b[0m\u001b[32mAdd /home/dsyer/dev/scratch/grpc-reflect/samples/app/target/lib/netty-buffer-4.1.123.Final.jar to classpath\n",
      "\u001b[0m\u001b[0m\u001b[32mAdd /home/dsyer/dev/scratch/grpc-reflect/samples/app/target/lib/netty-transport-4.1.123.Final.jar to classpath\n",
      "\u001b[0m\u001b[0m\u001b[32mAdd /home/dsyer/dev/scratch/grpc-reflect/samples/app/target/lib/jackson-datatype-jsr310-2.19.2.jar to classpath\n",
      "\u001b[0m\u001b[0m\u001b[32mAdd /home/dsyer/dev/scratch/grpc-reflect/samples/app/target/lib/spring-boot-starter-logging-3.5.5.jar to classpath\n",
      "\u001b[0m\u001b[0m\u001b[32mAdd /home/dsyer/dev/scratch/grpc-reflect/samples/app/target/lib/netty-handler-4.1.123.Final.jar to classpath\n",
      "\u001b[0m\u001b[0m\u001b[32mAdd /home/dsyer/dev/scratch/grpc-reflect/samples/app/target/lib/protobuf-java-4.30.2.jar to classpath\n",
      "\u001b[0m\u001b[0m\u001b[32mAdd /home/dsyer/dev/scratch/grpc-reflect/samples/app/target/lib/netty-transport-classes-epoll-4.1.124.Final.jar to classpath\n",
      "\u001b[0m\u001b[0m\u001b[32mAdd /home/dsyer/dev/scratch/grpc-reflect/samples/app/target/lib/netty-codec-4.1.124.Final.jar to classpath\n",
      "\u001b[0m\u001b[0m\u001b[32mAdd /home/dsyer/dev/scratch/grpc-reflect/samples/app/target/lib/spring-grpc-parser-0.12.0-SNAPSHOT.jar to classpath\n",
      "\u001b[0m\u001b[0m\u001b[32mAdd /home/dsyer/dev/scratch/grpc-reflect/samples/app/target/lib/spring-boot-test-3.5.4.jar to classpath\n",
      "\u001b[0m\u001b[0m\u001b[32mAdd /home/dsyer/dev/scratch/grpc-reflect/samples/app/target/lib/asm-9.7.1.jar to classpath\n",
      "\u001b[0m\u001b[0m\u001b[32mAdd /home/dsyer/dev/scratch/grpc-reflect/samples/app/target/lib/spring-boot-autoconfigure-3.5.5.jar to classpath\n",
      "\u001b[0m\u001b[0m\u001b[32mAdd /home/dsyer/dev/scratch/grpc-reflect/samples/app/target/lib/spring-grpc-server-spring-boot-starter-0.12.0-SNAPSHOT.jar to classpath\n",
      "\u001b[0m\u001b[0m\u001b[32mAdd /home/dsyer/dev/scratch/grpc-reflect/samples/app/target/lib/spring-boot-3.5.5.jar to classpath\n",
      "\u001b[0m\u001b[0m\u001b[32mAdd /home/dsyer/dev/scratch/grpc-reflect/samples/app/target/lib/netty-transport-native-epoll-4.1.123.Final-linux-x86_64.jar to classpath\n",
      "\u001b[0m\u001b[0m\u001b[32mAdd /home/dsyer/dev/scratch/grpc-reflect/samples/app/target/lib/netty-codec-socks-4.1.124.Final.jar to classpath\n",
      "\u001b[0m\u001b[0m\u001b[32mAdd /home/dsyer/dev/scratch/grpc-reflect/samples/app/target/lib/xmlunit-core-2.10.3.jar to classpath\n",
      "\u001b[0m\u001b[0m\u001b[32mAdd /home/dsyer/dev/scratch/grpc-reflect/samples/app/target/lib/jakarta.xml.bind-api-4.0.2.jar to classpath\n",
      "\u001b[0m\u001b[0m\u001b[32mAdd /home/dsyer/dev/scratch/grpc-reflect/samples/app/target/lib/grpc-netty-1.74.0.jar to classpath\n",
      "\u001b[0m\u001b[0m\u001b[32mAdd /home/dsyer/dev/scratch/grpc-reflect/samples/app/target/lib/spring-boot-starter-logging-3.5.4.jar to classpath\n",
      "\u001b[0m\u001b[0m\u001b[32mAdd /home/dsyer/dev/scratch/grpc-reflect/samples/app/target/lib/jul-to-slf4j-2.0.17.jar to classpath\n",
      "\u001b[0m\u001b[0m\u001b[32mAdd /home/dsyer/dev/scratch/grpc-reflect/samples/app/target/lib/spring-grpc-spring-boot-starter-0.11.0-SNAPSHOT.jar to classpath\n",
      "\u001b[0m\u001b[0m\u001b[32mAdd /home/dsyer/dev/scratch/grpc-reflect/samples/app/target/lib/HdrHistogram-2.2.2.jar to classpath\n",
      "\u001b[0m\u001b[0m\u001b[32mAdd /home/dsyer/dev/scratch/grpc-reflect/samples/app/target/lib/netty-transport-native-unix-common-4.1.123.Final.jar to classpath\n",
      "\u001b[0m\u001b[0m\u001b[32mAdd /home/dsyer/dev/scratch/grpc-reflect/samples/app/target/lib/spring-context-6.2.9.jar to classpath\n",
      "\u001b[0m\u001b[0m\u001b[32mAdd /home/dsyer/dev/scratch/grpc-reflect/samples/app/target/lib/spring-boot-test-autoconfigure-3.5.5.jar to classpath\n",
      "\u001b[0m\u001b[0m\u001b[32mAdd /home/dsyer/dev/scratch/grpc-reflect/samples/app/target/lib/byte-buddy-agent-1.17.6.jar to classpath\n",
      "\u001b[0m\u001b[0m\u001b[32mAdd /home/dsyer/dev/scratch/grpc-reflect/samples/app/target/lib/spring-core-6.2.10.jar to classpath\n",
      "\u001b[0m\u001b[0m\u001b[32mAdd /home/dsyer/dev/scratch/grpc-reflect/samples/app/target/lib/spring-boot-starter-3.5.5.jar to classpath\n",
      "\u001b[0m\u001b[0m\u001b[32mAdd /home/dsyer/dev/scratch/grpc-reflect/samples/app/target/lib/slf4j-api-2.0.17.jar to classpath\n",
      "\u001b[0m\u001b[0m\u001b[32mAdd /home/dsyer/dev/scratch/grpc-reflect/samples/app/target/lib/spring-boot-starter-test-3.5.4.jar to classpath\n",
      "\u001b[0m\u001b[0m\u001b[32mAdd /home/dsyer/dev/scratch/grpc-reflect/samples/app/target/lib/reactor-core-3.7.9.jar to classpath\n",
      "\u001b[0m\u001b[0m\u001b[32mAdd /home/dsyer/dev/scratch/grpc-reflect/samples/app/target/lib/spring-boot-starter-3.5.4.jar to classpath\n",
      "\u001b[0m\u001b[0m\u001b[32mAdd /home/dsyer/dev/scratch/grpc-reflect/samples/app/target/lib/micrometer-commons-1.15.3.jar to classpath\n",
      "\u001b[0m\u001b[0m\u001b[32mAdd /home/dsyer/dev/scratch/grpc-reflect/samples/app/target/lib/LatencyUtils-2.0.3.jar to classpath\n",
      "\u001b[0m\u001b[0m\u001b[32mAdd /home/dsyer/dev/scratch/grpc-reflect/samples/app/target/lib/ST4-4.3.4.jar to classpath\n",
      "\u001b[0m\u001b[0m\u001b[32mAdd /home/dsyer/dev/scratch/grpc-reflect/samples/app/target/lib/perfmark-api-0.27.0.jar to classpath\n",
      "\u001b[0m\u001b[0m\u001b[32mAdd /home/dsyer/dev/scratch/grpc-reflect/samples/app/target/lib/spring-boot-actuator-3.5.4.jar to classpath\n",
      "\u001b[0m\u001b[0m\u001b[32mAdd /home/dsyer/dev/scratch/grpc-reflect/samples/app/target/lib/junit-platform-commons-1.12.2.jar to classpath\n",
      "\u001b[0m\u001b[0m\u001b[32mAdd /home/dsyer/dev/scratch/grpc-reflect/samples/app/target/lib/spring-boot-starter-actuator-3.5.4.jar to classpath\n",
      "\u001b[0m\u001b[0m\u001b[32mAdd /home/dsyer/dev/scratch/grpc-reflect/samples/app/target/lib/assertj-core-3.27.4.jar to classpath\n",
      "\u001b[0m\u001b[0m\u001b[32mAdd /home/dsyer/dev/scratch/grpc-reflect/samples/app/target/lib/antlr4-runtime-4.13.2.jar to classpath\n",
      "\u001b[0m\u001b[0m\u001b[32mAdd /home/dsyer/dev/scratch/grpc-reflect/samples/app/target/lib/animal-sniffer-annotations-1.24.jar to classpath\n",
      "\u001b[0m\u001b[0m\u001b[32mAdd /home/dsyer/dev/scratch/grpc-reflect/samples/app/target/lib/spring-jcl-6.2.9.jar to classpath\n",
      "\u001b[0m\u001b[0m\u001b[32mAdd /home/dsyer/dev/scratch/grpc-reflect/samples/app/target/lib/spring-boot-test-3.5.5.jar to classpath\n",
      "\u001b[0m\u001b[0m\u001b[32mAdd /home/dsyer/dev/scratch/grpc-reflect/samples/app/target/lib/grpc-protobuf-lite-1.74.0.jar to classpath\n",
      "\u001b[0m\u001b[0m\u001b[32mAdd /home/dsyer/dev/scratch/grpc-reflect/samples/app/target/lib/hamcrest-3.0.jar to classpath\n",
      "\u001b[0m\u001b[0m\u001b[32mAdd /home/dsyer/dev/scratch/grpc-reflect/samples/app/target/lib/byte-buddy-agent-1.17.7.jar to classpath\n",
      "\u001b[0m\u001b[0m\u001b[32mAdd /home/dsyer/dev/scratch/grpc-reflect/samples/app/target/lib/org.abego.treelayout.core-1.0.3.jar to classpath\n",
      "\u001b[0m\u001b[0m\u001b[32mAdd /home/dsyer/dev/scratch/grpc-reflect/samples/app/target/lib/netty-codec-http-4.1.123.Final.jar to classpath\n",
      "\u001b[0m\u001b[0m\u001b[32mAdd /home/dsyer/dev/scratch/grpc-reflect/samples/app/target/lib/grpc-context-1.74.0.jar to classpath\n",
      "\u001b[0m\u001b[0m\u001b[32mAdd /home/dsyer/dev/scratch/grpc-reflect/samples/app/target/lib/spring-test-6.2.9.jar to classpath\n",
      "\u001b[0m\u001b[0m\u001b[32mAdd /home/dsyer/dev/scratch/grpc-reflect/samples/app/target/lib/jackson-dataformat-protobuf-2.19.2.jar to classpath\n",
      "\u001b[0m\u001b[0m\u001b[32mAdd /home/dsyer/dev/scratch/grpc-reflect/samples/app/target/lib/micrometer-jakarta9-1.15.2.jar to classpath\n",
      "\u001b[0m\u001b[0m\u001b[32mAdd /home/dsyer/dev/scratch/grpc-reflect/samples/app/target/lib/micrometer-observation-1.15.3.jar to classpath\n",
      "\u001b[0m\u001b[0m\u001b[32mAdd /home/dsyer/dev/scratch/grpc-reflect/samples/app/target/lib/annotations-4.1.1.4.jar to classpath\n",
      "\u001b[0m\u001b[0m\u001b[32mAdd /home/dsyer/dev/scratch/grpc-reflect/samples/app/target/lib/spring-beans-6.2.9.jar to classpath\n",
      "\u001b[0m\u001b[0m\u001b[32mAdd /home/dsyer/dev/scratch/grpc-reflect/samples/app/target/lib/netty-codec-http2-4.1.123.Final.jar to classpath\n",
      "\u001b[0m\u001b[0m\u001b[32mAdd /home/dsyer/dev/scratch/grpc-reflect/samples/app/target/lib/spring-grpc-spring-boot-autoconfigure-0.12.0-SNAPSHOT.jar to classpath\n",
      "\u001b[0m\u001b[0m\u001b[32mAdd /home/dsyer/dev/scratch/grpc-reflect/samples/app/target/lib/spring-grpc-spring-boot-autoconfigure-0.11.0-SNAPSHOT.jar to classpath\n",
      "\u001b[0m\u001b[0m\u001b[32mAdd /home/dsyer/dev/scratch/grpc-reflect/samples/app/target/lib/awaitility-4.2.2.jar to classpath\n",
      "\u001b[0m\u001b[0m\u001b[32mAdd /home/dsyer/dev/scratch/grpc-reflect/samples/app/target/lib/grpc-api-1.74.0.jar to classpath\n",
      "\u001b[0m\u001b[0m\u001b[32mAdd /home/dsyer/dev/scratch/grpc-reflect/samples/app/target/lib/mockito-junit-jupiter-5.17.0.jar to classpath\n",
      "\u001b[0m\u001b[0m\u001b[32mAdd /home/dsyer/dev/scratch/grpc-reflect/samples/app/target/lib/grpc-util-1.74.0.jar to classpath\n",
      "\u001b[0m\u001b[0m\u001b[32mAdd /home/dsyer/dev/scratch/grpc-reflect/samples/app/target/lib/protoparser-4.0.3.jar to classpath\n",
      "\u001b[0m\u001b[0m\u001b[32mAdd /home/dsyer/dev/scratch/grpc-reflect/samples/app/target/lib/netty-common-4.1.124.Final.jar to classpath\n",
      "\u001b[0m\u001b[0m\u001b[32mAdd /home/dsyer/dev/scratch/grpc-reflect/samples/app/target/lib/spring-grpc-core-0.12.0-SNAPSHOT.jar to classpath\n",
      "\u001b[0m\u001b[0m\u001b[32mAdd /home/dsyer/dev/scratch/grpc-reflect/samples/app/target/lib/junit-jupiter-params-5.12.2.jar to classpath\n",
      "\u001b[0m\u001b[0m\u001b[32mAdd /home/dsyer/dev/scratch/grpc-reflect/samples/app/target/lib/netty-transport-native-epoll-4.1.124.Final-linux-x86_64.jar to classpath\n",
      "\u001b[0m\u001b[0m\u001b[32mAdd /home/dsyer/dev/scratch/grpc-reflect/samples/app/target/lib/hamcrest-core-3.0.jar to classpath\n",
      "\u001b[0m\u001b[0m\u001b[32mAdd /home/dsyer/dev/scratch/grpc-reflect/samples/app/target/lib/spring-boot-actuator-autoconfigure-3.5.5.jar to classpath\n",
      "\u001b[0m\u001b[0m\u001b[32mAdd /home/dsyer/dev/scratch/grpc-reflect/samples/app/target/lib/spring-boot-autoconfigure-3.5.4.jar to classpath\n",
      "\u001b[0m\u001b[0m\u001b[32mAdd /home/dsyer/dev/scratch/grpc-reflect/samples/app/target/lib/spring-grpc-server-spring-boot-starter-0.11.0-SNAPSHOT.jar to classpath\n",
      "\u001b[0m\u001b[0m\u001b[32mAdd /home/dsyer/dev/scratch/grpc-reflect/samples/app/target/lib/grpc-stub-1.74.0.jar to classpath\n",
      "\u001b[0m\u001b[0m\u001b[32mAdd /home/dsyer/dev/scratch/grpc-reflect/samples/app/target/lib/j2objc-annotations-3.0.0.jar to classpath\n",
      "\u001b[0m\u001b[0m\u001b[32mAdd /home/dsyer/dev/scratch/grpc-reflect/samples/app/target/lib/netty-handler-proxy-4.1.124.Final.jar to classpath\n",
      "\u001b[0m\u001b[0m\u001b[32mAdd /home/dsyer/dev/scratch/grpc-reflect/samples/app/target/lib/listenablefuture-9999.0-empty-to-avoid-conflict-with-guava.jar to classpath\n",
      "\u001b[0m\u001b[0m\u001b[32mAdd /home/dsyer/dev/scratch/grpc-reflect/samples/app/target/lib/spring-expression-6.2.10.jar to classpath\n",
      "\u001b[0m\u001b[0m\u001b[32mAdd /home/dsyer/dev/scratch/grpc-reflect/samples/app/target/lib/error_prone_annotations-2.30.0.jar to classpath\n",
      "\u001b[0m\u001b[0m\u001b[32mAdd /home/dsyer/dev/scratch/grpc-reflect/samples/app/target/lib/reactive-streams-1.0.4.jar to classpath\n",
      "\u001b[0m\u001b[0m\u001b[32mAdd /home/dsyer/dev/scratch/grpc-reflect/samples/app/target/lib/micrometer-commons-1.15.2.jar to classpath\n",
      "\u001b[0m\u001b[0m\u001b[32mAdd /home/dsyer/dev/scratch/grpc-reflect/samples/app/target/lib/guava-33.3.1-jre.jar to classpath\n",
      "\u001b[0m\u001b[0m\u001b[32mAdd /home/dsyer/dev/scratch/grpc-reflect/samples/app/target/lib/netty-codec-4.1.123.Final.jar to classpath\n",
      "\u001b[0m\u001b[0m\u001b[32mAdd /home/dsyer/dev/scratch/grpc-reflect/samples/app/target/lib/netty-buffer-4.1.124.Final.jar to classpath\n",
      "\u001b[0m\u001b[0m\u001b[32mAdd /home/dsyer/dev/scratch/grpc-reflect/samples/app/target/lib/protobuf-java-4.31.1.jar to classpath\n",
      "\u001b[0m\u001b[0m\u001b[32mAdd /home/dsyer/dev/scratch/grpc-reflect/samples/app/target/lib/spring-beans-6.2.10.jar to classpath\n",
      "\u001b[0m\u001b[0m\u001b[32mAdd /home/dsyer/dev/scratch/grpc-reflect/samples/app/target/lib/checker-qual-3.43.0.jar to classpath\n",
      "\u001b[0m\u001b[0m\u001b[32mAdd /home/dsyer/dev/scratch/grpc-reflect/samples/app/target/lib/junit-jupiter-5.12.2.jar to classpath\n",
      "\u001b[0m\u001b[0m\u001b[32mAdd /home/dsyer/dev/scratch/grpc-reflect/samples/app/target/lib/netty-common-4.1.123.Final.jar to classpath\n",
      "\u001b[0m\u001b[0m\u001b[32mAdd /home/dsyer/dev/scratch/grpc-reflect/samples/app/target/lib/micrometer-jakarta9-1.15.3.jar to classpath\n",
      "\u001b[0m\u001b[0m\u001b[32mAdd /home/dsyer/dev/scratch/grpc-reflect/samples/app/target/lib/spring-grpc-test-0.12.0-SNAPSHOT.jar to classpath\n",
      "\u001b[0m\u001b[0m\u001b[32mAdd /home/dsyer/dev/scratch/grpc-reflect/samples/app/target/lib/antlr4-4.13.2.jar to classpath\n",
      "\u001b[0m\u001b[0m\u001b[32mAdd /home/dsyer/dev/scratch/grpc-reflect/samples/app/target/lib/logback-core-1.5.18.jar to classpath\n",
      "\u001b[0m\u001b[0m\u001b[32mAdd /home/dsyer/dev/scratch/grpc-reflect/samples/app/target/lib/micrometer-core-1.15.2.jar to classpath\n",
      "\u001b[0m\u001b[0m\u001b[32mAdd /home/dsyer/dev/scratch/grpc-reflect/samples/app/target/lib/spring-grpc-core-0.11.0-SNAPSHOT.jar to classpath\n",
      "\u001b[0m\u001b[0m\u001b[32mAdd /home/dsyer/dev/scratch/grpc-reflect/samples/app/target/lib/reactor-core-3.7.8.jar to classpath\n",
      "\u001b[0m\u001b[0m\u001b[32mAdd /home/dsyer/dev/scratch/grpc-reflect/samples/app/target/lib/netty-handler-4.1.124.Final.jar to classpath\n",
      "\u001b[0m\u001b[0m\u001b[32mAdd /home/dsyer/dev/scratch/grpc-reflect/samples/app/target/lib/logback-classic-1.5.18.jar to classpath\n",
      "\u001b[0m\u001b[0m\u001b[32mAdd /home/dsyer/dev/scratch/grpc-reflect/samples/app/target/lib/jsr305-3.0.2.jar to classpath\n",
      "\u001b[0m\u001b[0m\u001b[32mAdd /home/dsyer/dev/scratch/grpc-reflect/samples/app/target/lib/netty-transport-native-unix-common-4.1.124.Final.jar to classpath\n",
      "\u001b[0m\u001b[0m\u001b[32mAdd /home/dsyer/dev/scratch/grpc-reflect/samples/app/target/lib/apiguardian-api-1.1.2.jar to classpath\n",
      "\u001b[0m\u001b[0m\u001b[32mAdd /home/dsyer/dev/scratch/grpc-reflect/samples/app/target/lib/failureaccess-1.0.2.jar to classpath\n",
      "\u001b[0m\u001b[0m\u001b[32mAdd /home/dsyer/dev/scratch/grpc-reflect/samples/app/target/lib/antlr-runtime-3.5.3.jar to classpath\n",
      "\u001b[0m\u001b[0m\u001b[32mAdd /home/dsyer/dev/scratch/grpc-reflect/samples/app/target/lib/snakeyaml-2.4.jar to classpath\n",
      "\u001b[0m"
     ]
    }
   ],
   "source": [
    "%%jars\n",
    "samples/app/target/lib"
   ]
  },
  {
   "cell_type": "code",
   "execution_count": 1,
   "id": "f0ff939f",
   "metadata": {},
   "outputs": [
    {
     "name": "stdout",
     "output_type": "stream",
     "text": [
      "Adding dependency \u001b[0m\u001b[1m\u001b[32mcom.fasterxml.jackson.dataformat:jackson-dataformat-protobuf:2.20.0\n",
      "\u001b[0m"
     ]
    }
   ],
   "source": [
    "%dependency /add com.fasterxml.jackson.dataformat:jackson-dataformat-protobuf:2.20.0"
   ]
  },
  {
   "cell_type": "code",
   "execution_count": null,
   "id": "16885465",
   "metadata": {},
   "outputs": [
    {
     "name": "stdout",
     "output_type": "stream",
     "text": [
      "\u001b[0m\u001b[32mAdd /home/dsyer/dev/scratch/grpc-reflect/app/target/test-classes to classpath\n",
      "\u001b[0m\u001b[0m\u001b[32mAdd /home/dsyer/dev/scratch/grpc-reflect/app/target/classes to classpath\n",
      "\u001b[0m\u001b[0m\u001b[32mAdd /home/dsyer/dev/scratch/grpc-reflect/webflux/target/classes to classpath\n",
      "\u001b[0m\u001b[0m\u001b[32mAdd /home/dsyer/dev/scratch/grpc-reflect/webflux/target/test-classes to classpath\n",
      "\u001b[0m"
     ]
    }
   ],
   "source": [
    "%classpath samples/app/target/test-classes/\n",
    "%classpath samples/app/target/classes/\n",
    "%classpath samples/webflux/target/classes/\n",
    "%classpath samples/webflux/target/test-classes/"
   ]
  },
  {
   "cell_type": "code",
   "execution_count": 4,
   "id": "8db46f6b",
   "metadata": {},
   "outputs": [],
   "source": [
    "import org.springframework.grpc.sample.proto.*;"
   ]
  },
  {
   "cell_type": "code",
   "execution_count": 5,
   "id": "44acab08",
   "metadata": {},
   "outputs": [],
   "source": [
    "var bindable = new SimpleGrpc.SimpleImplBase() {};"
   ]
  },
  {
   "cell_type": "code",
   "execution_count": 83,
   "id": "20ef0e5c",
   "metadata": {},
   "outputs": [],
   "source": [
    "import io.grpc.protobuf.ProtoServiceDescriptorSupplier;\n",
    "import io.grpc.protobuf.ProtoFileDescriptorSupplier;\n",
    "import io.grpc.*;"
   ]
  },
  {
   "cell_type": "code",
   "execution_count": 9,
   "id": "4e891c31",
   "metadata": {},
   "outputs": [
    {
     "ename": "CompilerException",
     "evalue": "",
     "output_type": "error",
     "traceback": [
      "\u001b[0m\u001b[1m\u001b[31mCompile error:\u001b[0m",
      "\u001b[0m\u001b[1;30m|    bindable.bindService().getServiceDescriptor().getMethods().forEach(method -> {\u001b[0m",
      "\u001b[0m\u001b[1;30m|    \tSystem.out.println(\"Method: \" + method);\u001b[0m",
      "\u001b[0m\u001b[1;30m|    \tSystem.out.println(\"Method: \" + method.getFullMethodName());\u001b[0m",
      "\u001b[0m\u001b[1m|    \tSystem.out.println(\"Input: \" + \u001b[0m\u001b[1m\u001b[48;2;235;145;148m((ProtoServiceDescriptorSupplier)method.getSchemaDescriptor()).getServiceDescriptor().findMethodByName(method.getBareMethodName()).getRequestMarshaller\u001b[0m\u001b[1m().getMessageClass());\u001b[0m",
      "\u001b[0m\u001b[1;30m|    \tSystem.out.println(\"Input: \" + ((ProtoServiceDescriptorSupplier)method.getSchemaDescriptor()).getServiceDescriptor().findMethodByName(method.getBareMethodName()).getInputType().getFullName());\u001b[0m",
      "\u001b[0m\u001b[1;30m|    \tSystem.out.println(\"File: \" + ((ProtoServiceDescriptorSupplier)method.getSchemaDescriptor()).getFileDescriptor());\u001b[0m",
      "\u001b[0m\u001b[1;30m|    \tSystem.out.println(\"Schema: \" + ((ProtoServiceDescriptorSupplier)method.getSchemaDescriptor()).getServiceDescriptor().findMethodByName(method.getBareMethodName()).toProto());\u001b[0m",
      "\u001b[0m\u001b[1;30m|    });\u001b[0m",
      "\u001b[0m\u001b[1m\u001b[34mcannot find symbol\u001b[0m",
      "\u001b[0m\u001b[1m\u001b[34m  symbol:   method getRequestMarshaller()\u001b[0m",
      ""
     ]
    }
   ],
   "source": [
    "bindable.bindService().getServiceDescriptor().getMethods().forEach(method -> {\n",
    "\tSystem.out.println(\"Method: \" + method);\n",
    "\tSystem.out.println(\"Method: \" + method.getFullMethodName());\n",
    "\tSystem.out.println(\"Input: \" + ((ProtoServiceDescriptorSupplier)method.getSchemaDescriptor()).getServiceDescriptor().findMethodByName(method.getBareMethodName()).getRequestMarshaller().getMessageClass());\n",
    "\tSystem.out.println(\"Input: \" + ((ProtoServiceDescriptorSupplier)method.getSchemaDescriptor()).getServiceDescriptor().findMethodByName(method.getBareMethodName()).getInputType().getFullName());\n",
    "\tSystem.out.println(\"File: \" + ((ProtoServiceDescriptorSupplier)method.getSchemaDescriptor()).getFileDescriptor());\n",
    "\tSystem.out.println(\"Schema: \" + ((ProtoServiceDescriptorSupplier)method.getSchemaDescriptor()).getServiceDescriptor().findMethodByName(method.getBareMethodName()).toProto());\n",
    "});"
   ]
  },
  {
   "cell_type": "code",
   "execution_count": 39,
   "id": "be3d70e9",
   "metadata": {},
   "outputs": [],
   "source": [
    "import io.grpc.protobuf.services.ProtoReflectionServiceV1;\n",
    "import io.grpc.reflection.v1.ServerReflectionRequest;\n",
    "import io.grpc.reflection.v1.ServerReflectionResponse;\n",
    "import io.grpc.reflection.v1.ServiceResponse;\n",
    "import io.grpc.reflection.v1.ListServiceResponse;\n",
    "import io.grpc.reflection.v1.FileDescriptorResponse;"
   ]
  },
  {
   "cell_type": "code",
   "execution_count": 10,
   "id": "e5831b60",
   "metadata": {},
   "outputs": [],
   "source": [
    "var request = ServerReflectionRequest.newBuilder()\n",
    "\t.setListServices(\"\")\n",
    "\t.build();\n"
   ]
  },
  {
   "cell_type": "code",
   "execution_count": 38,
   "id": "fe0ebd26",
   "metadata": {},
   "outputs": [
    {
     "name": "stdout",
     "output_type": "stream",
     "text": [
      "Response: original_request {\n",
      "  list_services: \"\"\n",
      "}\n",
      "list_services_response {\n",
      "  service {\n",
      "    name: \"Foo\"\n",
      "  }\n",
      "}\n",
      "\n"
     ]
    }
   ],
   "source": [
    "var response = ServerReflectionResponse.newBuilder()\n",
    "\t.setValidHost(request.getHost())\n",
    "\t.setListServicesResponse(ListServiceResponse.newBuilder().addService(ServiceResponse.newBuilder().setName(\"Foo\").build()).build())\n",
    "\t.setOriginalRequest(request).build();\n",
    "System.out.println(\"Response: \" + response);"
   ]
  },
  {
   "cell_type": "code",
   "execution_count": 47,
   "id": "8b18f438",
   "metadata": {},
   "outputs": [],
   "source": [
    "var method = bindable.bindService().getServiceDescriptor().getMethods().stream()\n",
    "\t.filter(m -> m.getBareMethodName().equals(\"SayHello\"))\n",
    "\t.findFirst()\n",
    "\t.orElseThrow(() -> new RuntimeException(\"Method not found\"));\n",
    "var fileDescriptor = ((ProtoServiceDescriptorSupplier)method.getSchemaDescriptor()).getFileDescriptor();"
   ]
  },
  {
   "cell_type": "code",
   "execution_count": 50,
   "id": "3455eb5f",
   "metadata": {},
   "outputs": [
    {
     "name": "stdout",
     "output_type": "stream",
     "text": [
      "Response: original_request {\n",
      "  list_services: \"\"\n",
      "}\n",
      "file_descriptor_response {\n",
      "  file_descriptor_proto: \"\\n\\vhello.proto\\\"\\034\\n\\fHelloRequest\\022\\f\\n\\004name\\030\\001 \\001(\\t\\\"\\035\\n\\nHelloReply\\022\\017\\n\\amessage\\030\\001 \\001(\\t2a\\n\\006Simple\\022(\\n\\bSayHello\\022\\r.HelloRequest\\032\\v.HelloReply\\\"\\000\\022-\\n\\vStreamHello\\022\\r.HelloRequest\\032\\v.HelloReply\\\"\\0000\\001B:\\n%org.springframework.grpc.sample.protoB\\017HelloWorldProtoP\\001b\\006proto3\"\n",
      "}\n",
      "\n"
     ]
    }
   ],
   "source": [
    "var response = ServerReflectionResponse.newBuilder()\n",
    "\t.setValidHost(request.getHost())\n",
    "\t.setOriginalRequest(request)\n",
    "\t.setFileDescriptorResponse(FileDescriptorResponse.newBuilder()\n",
    "\t\t.addFileDescriptorProto(fileDescriptor.toProto().toByteString())\n",
    "\t\t.build())\n",
    "\t.build();\n",
    "System.out.println(\"Response: \" + response);"
   ]
  },
  {
   "cell_type": "code",
   "execution_count": 63,
   "id": "f55b84b2",
   "metadata": {},
   "outputs": [],
   "source": [
    "import com.google.protobuf.Message;"
   ]
  },
  {
   "cell_type": "code",
   "execution_count": null,
   "id": "d4d25faa",
   "metadata": {},
   "outputs": [],
   "source": [
    "var call = new ServerCall() {\n",
    "\t@Override\n",
    "\tpublic void request(int numMessages) {\n",
    "\t\tSystem.out.println(\"Requesting \" + numMessages + \" messages\");\n",
    "\t}\n",
    "\n",
    "\t@Override\n",
    "\tpublic void sendMessage(Object message) {\n",
    "\t\tSystem.out.println(\"Sending message: \" + message);\n",
    "\t}\n",
    "\n",
    "\t@Override\n",
    "\tpublic void close(Status status, Metadata trailers) {\n",
    "\t\tSystem.out.println(\"Call closed with status: \" + status);\n",
    "\t}\n",
    "\n",
    "\t@Override\n",
    "\tpublic boolean isCancelled() {\n",
    "\t\treturn false;\n",
    "\t}\n",
    "\n",
    "\t@Override\n",
    "\tpublic void sendHeaders(Metadata headers) {\n",
    "\t\tSystem.out.println(\"Sending headers: \" + headers);\n",
    "\t}\n",
    "\n",
    "\t@Override\n",
    "\tpublic MethodDescriptor getMethodDescriptor() {\n",
    "\t\treturn method;\n",
    "\t}\n",
    "};"
   ]
  },
  {
   "cell_type": "code",
   "execution_count": 93,
   "id": "cb4c3905",
   "metadata": {},
   "outputs": [
    {
     "data": {
      "text/plain": [
       "io.grpc.stub.ServerCalls$UnaryServerCallHandler@3a85ab0d"
      ]
     },
     "execution_count": 93,
     "metadata": {},
     "output_type": "execute_result"
    }
   ],
   "source": [
    "bindable.bindService().getMethod(\"Simple/SayHello\").getServerCallHandler()"
   ]
  },
  {
   "cell_type": "code",
   "execution_count": 88,
   "id": "284fd936",
   "metadata": {},
   "outputs": [
    {
     "name": "stdout",
     "output_type": "stream",
     "text": [
      "Requesting 2 messages\n"
     ]
    }
   ],
   "source": [
    "var listener = bindable.bindService().getMethod(\"Simple/SayHello\").getServerCallHandler().startCall(call, null);"
   ]
  },
  {
   "cell_type": "code",
   "execution_count": 94,
   "id": "40d3b2dd",
   "metadata": {},
   "outputs": [
    {
     "data": {
      "text/plain": [
       "io.grpc.stub.ServerCalls$UnaryServerCallHandler$UnaryServerCallListener@16b5a0b4"
      ]
     },
     "execution_count": 94,
     "metadata": {},
     "output_type": "execute_result"
    }
   ],
   "source": [
    "listener"
   ]
  },
  {
   "cell_type": "code",
   "execution_count": 95,
   "id": "670387f0",
   "metadata": {},
   "outputs": [],
   "source": [
    "listener.onMessage(HelloRequest.newBuilder().setName(\"World\").build());"
   ]
  },
  {
   "cell_type": "code",
   "execution_count": 96,
   "id": "3a55bcac",
   "metadata": {},
   "outputs": [
    {
     "name": "stdout",
     "output_type": "stream",
     "text": [
      "Call closed with status: Status{code=UNIMPLEMENTED, description=Method Simple/SayHello is unimplemented, cause=null}\n"
     ]
    }
   ],
   "source": [
    "listener.onHalfClose();"
   ]
  },
  {
   "cell_type": "code",
   "execution_count": 92,
   "id": "28c733ec",
   "metadata": {},
   "outputs": [],
   "source": [
    "listener.onComplete();"
   ]
  },
  {
   "cell_type": "code",
   "execution_count": 99,
   "id": "cd144bf0",
   "metadata": {},
   "outputs": [
    {
     "ename": "EvalException",
     "evalue": "Cannot invoke \"io.grpc.Server.getImmutableServices()\" because \"server\" is null",
     "output_type": "error",
     "traceback": [
      "\u001b[0m\u001b[1m\u001b[31mjava.lang.NullPointerException: Cannot invoke \"io.grpc.Server.getImmutableServices()\" because \"server\" is null\n\u001b[0m",
      "\u001b[0m\u001b[1m\u001b[34m   at io.grpc.protobuf.services.ProtoReflectionServiceV1.getRefreshedIndex(ProtoReflectionServiceV1.java:93)\u001b[0m",
      "\u001b[0m\u001b[1m\u001b[34m   at io.grpc.protobuf.services.ProtoReflectionServiceV1.serverReflectionInfo(ProtoReflectionServiceV1.java:134)\u001b[0m",
      "\u001b[0m\u001b[1m\u001b[34m   at io.grpc.reflection.v1.ServerReflectionGrpc$MethodHandlers.invoke(ServerReflectionGrpc.java:258)\u001b[0m",
      "\u001b[0m\u001b[1m\u001b[34m   at io.grpc.stub.ServerCalls$StreamingServerCallHandler.startCall(ServerCalls.java:235)\u001b[0m",
      "\u001b[0m\u001b[1m\u001b[34m   at .do_it$Aux(#84:1)\u001b[0m",
      "\u001b[0m\u001b[0m\u001b[1m|--> var listener = bindable.bindService().getMethod(\"Simple/SayHello\").getServerCallHandler().startCall(call, null);\u001b[0m",
      "\u001b[0m\u001b[1m\u001b[34m   at .(#84:1)\u001b[0m",
      "\u001b[0m\u001b[0m\u001b[1m|--> var listener = bindable.bindService().getMethod(\"Simple/SayHello\").getServerCallHandler().startCall(call, null);\u001b[0m"
     ]
    }
   ],
   "source": [
    "var listener = ProtoReflectionServiceV1.newInstance().bindService().getMethod(\"grpc.reflection.v1.ServerReflection/ServerReflectionInfo\").getServerCallHandler().startCall(call, null);"
   ]
  },
  {
   "cell_type": "code",
   "execution_count": 122,
   "id": "f01e6bcc",
   "metadata": {},
   "outputs": [
    {
     "data": {
      "text/plain": [
       "0.01842637013657085"
      ]
     },
     "execution_count": 122,
     "metadata": {},
     "output_type": "execute_result"
    }
   ],
   "source": [
    "var a = 0.02;\n",
    "var X = 1332.72;\n",
    "var n = 24;\n",
    "var y = 69.07;\n",
    "a - ((a*X - y)*Math.pow(1 + a, n) + y)/(X*Math.pow(1+a, n) + n*(a*X -y)*Math.pow(1+a, n-1));"
   ]
  },
  {
   "cell_type": "code",
   "execution_count": 128,
   "id": "45a7824b",
   "metadata": {},
   "outputs": [
    {
     "data": {
      "text/plain": [
       "0.018245871996787587"
      ]
     },
     "execution_count": 128,
     "metadata": {},
     "output_type": "execute_result"
    }
   ],
   "source": [
    "a = a - ((a*X - y)*Math.pow(1 + a, n) + y)/(X*Math.pow(1+a, n) + n*(a*X -y)*Math.pow(1+a, n-1));\n",
    "a"
   ]
  },
  {
   "cell_type": "code",
   "execution_count": 129,
   "id": "0a27314a",
   "metadata": {},
   "outputs": [
    {
     "name": "stdout",
     "output_type": "stream",
     "text": [
      "a = 0.018246, 12a = 0.218950, (1+a)^12 - 1 = 0.242315\n",
      "(ny/X - 1)/n*12 = 0.121916\n"
     ]
    }
   ],
   "source": [
    "System.out.println(String.format(\"a = %f, 12a = %f, (1+a)^12 - 1 = %f\", a, 12*a, Math.pow(1 + a, 12) - 1));\n",
    "System.out.println(String.format(\"(ny/X - 1)/n*12 = %f\", (n*y/X - 1)/n*12));"
   ]
  },
  {
   "cell_type": "code",
   "execution_count": 130,
   "id": "f0558774",
   "metadata": {},
   "outputs": [
    {
     "data": {
      "text/plain": [
       "69.07000000000023"
      ]
     },
     "execution_count": 130,
     "metadata": {},
     "output_type": "execute_result"
    }
   ],
   "source": [
    "a*X/(1 - Math.pow(1 + a, -n))"
   ]
  },
  {
   "cell_type": "code",
   "execution_count": 138,
   "id": "112ace87",
   "metadata": {},
   "outputs": [
    {
     "data": {
      "text/plain": [
       "143.94863584148885"
      ]
     },
     "execution_count": 138,
     "metadata": {},
     "output_type": "execute_result"
    }
   ],
   "source": [
    "var a = .239/12;\n",
    "var X = 3066.72;\n",
    "var n = 24;\n",
    "a*X/(1 - Math.pow(1 + a, -(n+4)))"
   ]
  },
  {
   "cell_type": "code",
   "execution_count": null,
   "id": "33d7bac8",
   "metadata": {},
   "outputs": [],
   "source": []
  }
 ],
 "metadata": {
  "kernelspec": {
   "display_name": "java (Rapaio/j!)",
   "language": "java",
   "name": "jbang-rapaio"
  },
  "language_info": {
   "codemirror_mode": "java",
   "file_extension": ".jshell",
   "mimetype": "text/x-java-source",
   "name": "java",
   "nbconvert_exporter": "script",
   "pygments_lexer": "java",
   "version": "22.0.2+9"
  }
 },
 "nbformat": 4,
 "nbformat_minor": 5
}
