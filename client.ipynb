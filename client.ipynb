{
 "cells": [
  {
   "cell_type": "code",
   "execution_count": 1,
   "metadata": {},
   "outputs": [
    {
     "name": "stdout",
     "output_type": "stream",
     "text": [
      "Hello World!\n"
     ]
    }
   ],
   "source": [
    "System.out.println(\"Hello World!\")"
   ]
  },
  {
   "cell_type": "code",
   "execution_count": null,
   "metadata": {},
   "outputs": [
    {
     "name": "stdout",
     "output_type": "stream",
     "text": [
      "\u001b[0m\u001b[32mFound 151 jar files.\n",
      "\u001b[0m\u001b[0m\u001b[32mAdd /home/dsyer/dev/scratch/grpc-reflect/target/lib/spring-beans-6.2.3.jar to classpath\n",
      "\u001b[0m\u001b[0m\u001b[32mAdd /home/dsyer/dev/scratch/grpc-reflect/target/lib/spring-boot-starter-3.4.3.jar to classpath\n",
      "\u001b[0m\u001b[0m\u001b[32mAdd /home/dsyer/dev/scratch/grpc-reflect/target/lib/jakarta.activation-api-2.1.3.jar to classpath\n",
      "\u001b[0m\u001b[0m\u001b[32mAdd /home/dsyer/dev/scratch/grpc-reflect/target/lib/snakeyaml-2.3.jar to classpath\n",
      "\u001b[0m\u001b[0m\u001b[32mAdd /home/dsyer/dev/scratch/grpc-reflect/target/lib/spring-grpc-test-0.11.0-SNAPSHOT.jar to classpath\n",
      "\u001b[0m\u001b[0m\u001b[32mAdd /home/dsyer/dev/scratch/grpc-reflect/target/lib/accessors-smart-2.5.2.jar to classpath\n",
      "\u001b[0m\u001b[0m\u001b[32mAdd /home/dsyer/dev/scratch/grpc-reflect/target/lib/junit-4.13.2.jar to classpath\n",
      "\u001b[0m\u001b[0m\u001b[32mAdd /home/dsyer/dev/scratch/grpc-reflect/target/lib/spring-grpc-server-spring-boot-starter-0.11.0-SNAPSHOT.jar to classpath\n",
      "\u001b[0m\u001b[0m\u001b[32mAdd /home/dsyer/dev/scratch/grpc-reflect/target/lib/objenesis-3.3.jar to classpath\n",
      "\u001b[0m\u001b[0m\u001b[32mAdd /home/dsyer/dev/scratch/grpc-reflect/target/lib/spring-grpc-spring-boot-starter-0.11.0-SNAPSHOT.jar to classpath\n",
      "\u001b[0m\u001b[0m\u001b[32mAdd /home/dsyer/dev/scratch/grpc-reflect/target/lib/jackson-core-2.18.3.jar to classpath\n",
      "\u001b[0m\u001b[0m\u001b[32mAdd /home/dsyer/dev/scratch/grpc-reflect/target/lib/spring-expression-6.2.3.jar to classpath\n",
      "\u001b[0m\u001b[0m\u001b[32mAdd /home/dsyer/dev/scratch/grpc-reflect/target/lib/android-json-0.0.20131108.vaadin1.jar to classpath\n",
      "\u001b[0m\u001b[0m\u001b[32mAdd /home/dsyer/dev/scratch/grpc-reflect/target/lib/spring-boot-starter-logging-3.4.4.jar to classpath\n",
      "\u001b[0m\u001b[0m\u001b[32mAdd /home/dsyer/dev/scratch/grpc-reflect/target/lib/spring-boot-starter-test-3.4.4.jar to classpath\n",
      "\u001b[0m\u001b[0m\u001b[32mAdd /home/dsyer/dev/scratch/grpc-reflect/target/lib/json-path-2.9.0.jar to classpath\n",
      "\u001b[0m\u001b[0m\u001b[32mAdd /home/dsyer/dev/scratch/grpc-reflect/target/lib/spring-boot-test-3.4.4.jar to classpath\n",
      "\u001b[0m\u001b[0m\u001b[32mAdd /home/dsyer/dev/scratch/grpc-reflect/target/lib/netty-resolver-4.1.118.Final.jar to classpath\n",
      "\u001b[0m\u001b[0m\u001b[32mAdd /home/dsyer/dev/scratch/grpc-reflect/target/lib/jackson-dataformat-protobuf-2.18.3.jar to classpath\n",
      "\u001b[0m\u001b[0m\u001b[32mAdd /home/dsyer/dev/scratch/grpc-reflect/target/lib/micrometer-jakarta9-1.14.5.jar to classpath\n",
      "\u001b[0m\u001b[0m\u001b[32mAdd /home/dsyer/dev/scratch/grpc-reflect/target/lib/grpc-netty-1.75.0.jar to classpath\n",
      "\u001b[0m\u001b[0m\u001b[32mAdd /home/dsyer/dev/scratch/grpc-reflect/target/lib/spring-aop-6.2.3.jar to classpath\n",
      "\u001b[0m\u001b[0m\u001b[32mAdd /home/dsyer/dev/scratch/grpc-reflect/target/lib/netty-codec-socks-4.1.118.Final.jar to classpath\n",
      "\u001b[0m\u001b[0m\u001b[32mAdd /home/dsyer/dev/scratch/grpc-reflect/target/lib/netty-buffer-4.1.118.Final.jar to classpath\n",
      "\u001b[0m\u001b[0m\u001b[32mAdd /home/dsyer/dev/scratch/grpc-reflect/target/lib/xmlunit-core-2.10.0.jar to classpath\n",
      "\u001b[0m\u001b[0m\u001b[32mAdd /home/dsyer/dev/scratch/grpc-reflect/target/lib/grpc-util-1.75.0.jar to classpath\n",
      "\u001b[0m\u001b[0m\u001b[32mAdd /home/dsyer/dev/scratch/grpc-reflect/target/lib/protobuf-java-util-4.30.2.jar to classpath\n",
      "\u001b[0m\u001b[0m\u001b[32mAdd /home/dsyer/dev/scratch/grpc-reflect/target/lib/spring-context-6.2.5.jar to classpath\n",
      "\u001b[0m\u001b[0m\u001b[32mAdd /home/dsyer/dev/scratch/grpc-reflect/target/lib/spring-boot-autoconfigure-3.4.3.jar to classpath\n",
      "\u001b[0m\u001b[0m\u001b[32mAdd /home/dsyer/dev/scratch/grpc-reflect/target/lib/jackson-datatype-jsr310-2.18.3.jar to classpath\n",
      "\u001b[0m\u001b[0m\u001b[32mAdd /home/dsyer/dev/scratch/grpc-reflect/target/lib/spring-jcl-6.2.5.jar to classpath\n",
      "\u001b[0m\u001b[0m\u001b[32mAdd /home/dsyer/dev/scratch/grpc-reflect/target/lib/spring-aop-6.2.5.jar to classpath\n",
      "\u001b[0m\u001b[0m\u001b[32mAdd /home/dsyer/dev/scratch/grpc-reflect/target/lib/spring-boot-starter-test-3.4.3.jar to classpath\n",
      "\u001b[0m\u001b[0m\u001b[32mAdd /home/dsyer/dev/scratch/grpc-reflect/target/lib/grpc-protobuf-1.75.0.jar to classpath\n",
      "\u001b[0m\u001b[0m\u001b[32mAdd /home/dsyer/dev/scratch/grpc-reflect/target/lib/netty-buffer-4.1.119.Final.jar to classpath\n",
      "\u001b[0m\u001b[0m\u001b[32mAdd /home/dsyer/dev/scratch/grpc-reflect/target/lib/logback-classic-1.5.16.jar to classpath\n",
      "\u001b[0m\u001b[0m\u001b[32mAdd /home/dsyer/dev/scratch/grpc-reflect/target/lib/opentest4j-1.3.0.jar to classpath\n",
      "\u001b[0m\u001b[0m\u001b[32mAdd /home/dsyer/dev/scratch/grpc-reflect/target/lib/netty-handler-4.1.119.Final.jar to classpath\n",
      "\u001b[0m\u001b[0m\u001b[32mAdd /home/dsyer/dev/scratch/grpc-reflect/target/lib/spring-boot-starter-3.4.4.jar to classpath\n",
      "\u001b[0m\u001b[0m\u001b[32mAdd /home/dsyer/dev/scratch/grpc-reflect/target/lib/assertj-core-3.26.3.jar to classpath\n",
      "\u001b[0m\u001b[0m\u001b[32mAdd /home/dsyer/dev/scratch/grpc-reflect/target/lib/jakarta.annotation-api-2.1.1.jar to classpath\n",
      "\u001b[0m\u001b[0m\u001b[32mAdd /home/dsyer/dev/scratch/grpc-reflect/target/lib/json-smart-2.5.2.jar to classpath\n",
      "\u001b[0m\u001b[0m\u001b[32mAdd /home/dsyer/dev/scratch/grpc-reflect/target/lib/jackson-core-2.18.2.jar to classpath\n",
      "\u001b[0m\u001b[0m\u001b[32mAdd /home/dsyer/dev/scratch/grpc-reflect/target/lib/jsonassert-1.5.3.jar to classpath\n",
      "\u001b[0m\u001b[0m\u001b[32mAdd /home/dsyer/dev/scratch/grpc-reflect/target/lib/spring-test-6.2.3.jar to classpath\n",
      "\u001b[0m\u001b[0m\u001b[32mAdd /home/dsyer/dev/scratch/grpc-reflect/target/lib/spring-test-6.2.5.jar to classpath\n",
      "\u001b[0m\u001b[0m\u001b[32mAdd /home/dsyer/dev/scratch/grpc-reflect/target/lib/log4j-api-2.24.3.jar to classpath\n",
      "\u001b[0m\u001b[0m\u001b[32mAdd /home/dsyer/dev/scratch/grpc-reflect/target/lib/netty-transport-native-unix-common-4.1.118.Final.jar to classpath\n",
      "\u001b[0m\u001b[0m\u001b[32mAdd /home/dsyer/dev/scratch/grpc-reflect/target/lib/grpc-testing-1.75.0.jar to classpath\n",
      "\u001b[0m\u001b[0m\u001b[32mAdd /home/dsyer/dev/scratch/grpc-reflect/target/lib/micrometer-jakarta9-1.14.4.jar to classpath\n",
      "\u001b[0m\u001b[0m\u001b[32mAdd /home/dsyer/dev/scratch/grpc-reflect/target/lib/spring-context-6.2.3.jar to classpath\n",
      "\u001b[0m\u001b[0m\u001b[32mAdd /home/dsyer/dev/scratch/grpc-reflect/target/lib/micrometer-observation-1.14.4.jar to classpath\n",
      "\u001b[0m\u001b[0m\u001b[32mAdd /home/dsyer/dev/scratch/grpc-reflect/target/lib/byte-buddy-1.15.11.jar to classpath\n",
      "\u001b[0m\u001b[0m\u001b[32mAdd /home/dsyer/dev/scratch/grpc-reflect/target/lib/spring-core-6.2.5.jar to classpath\n",
      "\u001b[0m\u001b[0m\u001b[32mAdd /home/dsyer/dev/scratch/grpc-reflect/target/lib/proto-google-common-protos-2.54.1.jar to classpath\n",
      "\u001b[0m\u001b[0m\u001b[32mAdd /home/dsyer/dev/scratch/grpc-reflect/target/lib/netty-common-4.1.118.Final.jar to classpath\n",
      "\u001b[0m\u001b[0m\u001b[32mAdd /home/dsyer/dev/scratch/grpc-reflect/target/lib/micrometer-commons-1.14.5.jar to classpath\n",
      "\u001b[0m\u001b[0m\u001b[32mAdd /home/dsyer/dev/scratch/grpc-reflect/target/lib/junit-jupiter-5.11.4.jar to classpath\n",
      "\u001b[0m\u001b[0m\u001b[32mAdd /home/dsyer/dev/scratch/grpc-reflect/target/lib/log4j-to-slf4j-2.24.3.jar to classpath\n",
      "\u001b[0m\u001b[0m\u001b[32mAdd /home/dsyer/dev/scratch/grpc-reflect/target/lib/protobuf-java-4.30.2.jar to classpath\n",
      "\u001b[0m\u001b[0m\u001b[32mAdd /home/dsyer/dev/scratch/grpc-reflect/target/lib/spring-boot-actuator-3.4.4.jar to classpath\n",
      "\u001b[0m\u001b[0m\u001b[32mAdd /home/dsyer/dev/scratch/grpc-reflect/target/lib/netty-common-4.1.119.Final.jar to classpath\n",
      "\u001b[0m\u001b[0m\u001b[32mAdd /home/dsyer/dev/scratch/grpc-reflect/target/lib/spring-grpc-core-0.11.0-SNAPSHOT.jar to classpath\n",
      "\u001b[0m\u001b[0m\u001b[32mAdd /home/dsyer/dev/scratch/grpc-reflect/target/lib/jul-to-slf4j-2.0.16.jar to classpath\n",
      "\u001b[0m\u001b[0m\u001b[32mAdd /home/dsyer/dev/scratch/grpc-reflect/target/lib/asm-9.7.1.jar to classpath\n",
      "\u001b[0m\u001b[0m\u001b[32mAdd /home/dsyer/dev/scratch/grpc-reflect/target/lib/netty-transport-classes-epoll-4.1.118.Final.jar to classpath\n",
      "\u001b[0m\u001b[0m\u001b[32mAdd /home/dsyer/dev/scratch/grpc-reflect/target/lib/hamcrest-core-2.2.jar to classpath\n",
      "\u001b[0m\u001b[0m\u001b[32mAdd /home/dsyer/dev/scratch/grpc-reflect/target/lib/jakarta.xml.bind-api-4.0.2.jar to classpath\n",
      "\u001b[0m\u001b[0m\u001b[32mAdd /home/dsyer/dev/scratch/grpc-reflect/target/lib/micrometer-core-1.14.4.jar to classpath\n",
      "\u001b[0m\u001b[0m\u001b[32mAdd /home/dsyer/dev/scratch/grpc-reflect/target/lib/spring-expression-6.2.5.jar to classpath\n",
      "\u001b[0m\u001b[0m\u001b[32mAdd /home/dsyer/dev/scratch/grpc-reflect/target/lib/spring-boot-actuator-autoconfigure-3.4.4.jar to classpath\n",
      "\u001b[0m\u001b[0m\u001b[32mAdd /home/dsyer/dev/scratch/grpc-reflect/target/lib/jul-to-slf4j-2.0.17.jar to classpath\n",
      "\u001b[0m\u001b[0m\u001b[32mAdd /home/dsyer/dev/scratch/grpc-reflect/target/lib/HdrHistogram-2.2.2.jar to classpath\n",
      "\u001b[0m\u001b[0m\u001b[32mAdd /home/dsyer/dev/scratch/grpc-reflect/target/lib/netty-codec-4.1.119.Final.jar to classpath\n",
      "\u001b[0m\u001b[0m\u001b[32mAdd /home/dsyer/dev/scratch/grpc-reflect/target/lib/netty-transport-native-unix-common-4.1.119.Final.jar to classpath\n",
      "\u001b[0m\u001b[0m\u001b[32mAdd /home/dsyer/dev/scratch/grpc-reflect/target/lib/grpc-stub-1.75.0.jar to classpath\n",
      "\u001b[0m\u001b[0m\u001b[32mAdd /home/dsyer/dev/scratch/grpc-reflect/target/lib/slf4j-api-2.0.16.jar to classpath\n",
      "\u001b[0m\u001b[0m\u001b[32mAdd /home/dsyer/dev/scratch/grpc-reflect/target/lib/mockito-junit-jupiter-5.14.2.jar to classpath\n",
      "\u001b[0m\u001b[0m\u001b[32mAdd /home/dsyer/dev/scratch/grpc-reflect/target/lib/slf4j-api-2.0.17.jar to classpath\n",
      "\u001b[0m\u001b[0m\u001b[32mAdd /home/dsyer/dev/scratch/grpc-reflect/target/lib/grpc-inprocess-1.75.0.jar to classpath\n",
      "\u001b[0m\u001b[0m\u001b[32mAdd /home/dsyer/dev/scratch/grpc-reflect/target/lib/junit-platform-commons-1.11.4.jar to classpath\n",
      "\u001b[0m\u001b[0m\u001b[32mAdd /home/dsyer/dev/scratch/grpc-reflect/target/lib/LatencyUtils-2.0.3.jar to classpath\n",
      "\u001b[0m\u001b[0m\u001b[32mAdd /home/dsyer/dev/scratch/grpc-reflect/target/lib/spring-boot-starter-actuator-3.4.4.jar to classpath\n",
      "\u001b[0m\u001b[0m\u001b[32mAdd /home/dsyer/dev/scratch/grpc-reflect/target/lib/netty-transport-native-epoll-4.1.118.Final-linux-x86_64.jar to classpath\n",
      "\u001b[0m\u001b[0m\u001b[32mAdd /home/dsyer/dev/scratch/grpc-reflect/target/lib/gson-2.11.0.jar to classpath\n",
      "\u001b[0m\u001b[0m\u001b[32mAdd /home/dsyer/dev/scratch/grpc-reflect/target/lib/perfmark-api-0.27.0.jar to classpath\n",
      "\u001b[0m\u001b[0m\u001b[32mAdd /home/dsyer/dev/scratch/grpc-reflect/target/lib/spring-boot-autoconfigure-3.4.4.jar to classpath\n",
      "\u001b[0m\u001b[0m\u001b[32mAdd /home/dsyer/dev/scratch/grpc-reflect/target/lib/spring-boot-3.4.3.jar to classpath\n",
      "\u001b[0m\u001b[0m\u001b[32mAdd /home/dsyer/dev/scratch/grpc-reflect/target/lib/netty-codec-4.1.118.Final.jar to classpath\n",
      "\u001b[0m\u001b[0m\u001b[32mAdd /home/dsyer/dev/scratch/grpc-reflect/target/lib/animal-sniffer-annotations-1.24.jar to classpath\n",
      "\u001b[0m\u001b[0m\u001b[32mAdd /home/dsyer/dev/scratch/grpc-reflect/target/lib/junit-jupiter-params-5.11.4.jar to classpath\n",
      "\u001b[0m\u001b[0m\u001b[32mAdd /home/dsyer/dev/scratch/grpc-reflect/target/lib/spring-boot-test-3.4.3.jar to classpath\n",
      "\u001b[0m\u001b[0m\u001b[32mAdd /home/dsyer/dev/scratch/grpc-reflect/target/lib/netty-handler-4.1.118.Final.jar to classpath\n",
      "\u001b[0m\u001b[0m\u001b[32mAdd /home/dsyer/dev/scratch/grpc-reflect/target/lib/jackson-datatype-jsr310-2.18.2.jar to classpath\n",
      "\u001b[0m\u001b[0m\u001b[32mAdd /home/dsyer/dev/scratch/grpc-reflect/target/lib/spring-boot-actuator-autoconfigure-3.4.3.jar to classpath\n",
      "\u001b[0m\u001b[0m\u001b[32mAdd /home/dsyer/dev/scratch/grpc-reflect/target/lib/netty-handler-proxy-4.1.118.Final.jar to classpath\n",
      "\u001b[0m\u001b[0m\u001b[32mAdd /home/dsyer/dev/scratch/grpc-reflect/target/lib/micrometer-observation-1.14.5.jar to classpath\n",
      "\u001b[0m\u001b[0m\u001b[32mAdd /home/dsyer/dev/scratch/grpc-reflect/target/lib/junit-platform-engine-1.11.4.jar to classpath\n",
      "\u001b[0m\u001b[0m\u001b[32mAdd /home/dsyer/dev/scratch/grpc-reflect/target/lib/annotations-4.1.1.4.jar to classpath\n",
      "\u001b[0m\u001b[0m\u001b[32mAdd /home/dsyer/dev/scratch/grpc-reflect/target/lib/spring-jcl-6.2.3.jar to classpath\n",
      "\u001b[0m\u001b[0m\u001b[32mAdd /home/dsyer/dev/scratch/grpc-reflect/target/lib/micrometer-commons-1.14.4.jar to classpath\n",
      "\u001b[0m\u001b[0m\u001b[32mAdd /home/dsyer/dev/scratch/grpc-reflect/target/lib/logback-core-1.5.16.jar to classpath\n",
      "\u001b[0m\u001b[0m\u001b[32mAdd /home/dsyer/dev/scratch/grpc-reflect/target/lib/jackson-annotations-2.18.2.jar to classpath\n",
      "\u001b[0m\u001b[0m\u001b[32mAdd /home/dsyer/dev/scratch/grpc-reflect/target/lib/jackson-annotations-2.18.3.jar to classpath\n",
      "\u001b[0m\u001b[0m\u001b[32mAdd /home/dsyer/dev/scratch/grpc-reflect/target/lib/spring-boot-actuator-3.4.3.jar to classpath\n",
      "\u001b[0m\u001b[0m\u001b[32mAdd /home/dsyer/dev/scratch/grpc-reflect/target/lib/netty-codec-http-4.1.118.Final.jar to classpath\n",
      "\u001b[0m\u001b[0m\u001b[32mAdd /home/dsyer/dev/scratch/grpc-reflect/target/lib/netty-transport-4.1.118.Final.jar to classpath\n",
      "\u001b[0m\u001b[0m\u001b[32mAdd /home/dsyer/dev/scratch/grpc-reflect/target/lib/awaitility-4.2.2.jar to classpath\n",
      "\u001b[0m\u001b[0m\u001b[32mAdd /home/dsyer/dev/scratch/grpc-reflect/target/lib/jackson-dataformat-protobuf-2.18.2.jar to classpath\n",
      "\u001b[0m\u001b[0m\u001b[32mAdd /home/dsyer/dev/scratch/grpc-reflect/target/lib/netty-handler-proxy-4.1.119.Final.jar to classpath\n",
      "\u001b[0m\u001b[0m\u001b[32mAdd /home/dsyer/dev/scratch/grpc-reflect/target/lib/spring-core-6.2.3.jar to classpath\n",
      "\u001b[0m\u001b[0m\u001b[32mAdd /home/dsyer/dev/scratch/grpc-reflect/target/lib/protoparser-4.0.3.jar to classpath\n",
      "\u001b[0m\u001b[0m\u001b[32mAdd /home/dsyer/dev/scratch/grpc-reflect/target/lib/micrometer-core-1.14.5.jar to classpath\n",
      "\u001b[0m\u001b[0m\u001b[32mAdd /home/dsyer/dev/scratch/grpc-reflect/target/lib/grpc-context-1.75.0.jar to classpath\n",
      "\u001b[0m\u001b[0m\u001b[32mAdd /home/dsyer/dev/scratch/grpc-reflect/target/lib/j2objc-annotations-3.0.0.jar to classpath\n",
      "\u001b[0m\u001b[0m\u001b[32mAdd /home/dsyer/dev/scratch/grpc-reflect/target/lib/netty-codec-http2-4.1.118.Final.jar to classpath\n",
      "\u001b[0m\u001b[0m\u001b[32mAdd /home/dsyer/dev/scratch/grpc-reflect/target/lib/listenablefuture-9999.0-empty-to-avoid-conflict-with-guava.jar to classpath\n",
      "\u001b[0m\u001b[0m\u001b[32mAdd /home/dsyer/dev/scratch/grpc-reflect/target/lib/spring-boot-3.4.4.jar to classpath\n",
      "\u001b[0m\u001b[0m\u001b[32mAdd /home/dsyer/dev/scratch/grpc-reflect/target/lib/netty-transport-classes-epoll-4.1.119.Final.jar to classpath\n",
      "\u001b[0m\u001b[0m\u001b[32mAdd /home/dsyer/dev/scratch/grpc-reflect/target/lib/error_prone_annotations-2.30.0.jar to classpath\n",
      "\u001b[0m\u001b[0m\u001b[32mAdd /home/dsyer/dev/scratch/grpc-reflect/target/lib/grpc-api-1.75.0.jar to classpath\n",
      "\u001b[0m\u001b[0m\u001b[32mAdd /home/dsyer/dev/scratch/grpc-reflect/target/lib/spring-beans-6.2.5.jar to classpath\n",
      "\u001b[0m\u001b[0m\u001b[32mAdd /home/dsyer/dev/scratch/grpc-reflect/target/lib/guava-33.3.1-jre.jar to classpath\n",
      "\u001b[0m\u001b[0m\u001b[32mAdd /home/dsyer/dev/scratch/grpc-reflect/target/lib/netty-transport-4.1.119.Final.jar to classpath\n",
      "\u001b[0m\u001b[0m\u001b[32mAdd /home/dsyer/dev/scratch/grpc-reflect/target/lib/junit-jupiter-api-5.11.4.jar to classpath\n",
      "\u001b[0m\u001b[0m\u001b[32mAdd /home/dsyer/dev/scratch/grpc-reflect/target/lib/grpc-protobuf-lite-1.75.0.jar to classpath\n",
      "\u001b[0m\u001b[0m\u001b[32mAdd /home/dsyer/dev/scratch/grpc-reflect/target/lib/netty-resolver-4.1.119.Final.jar to classpath\n",
      "\u001b[0m\u001b[0m\u001b[32mAdd /home/dsyer/dev/scratch/grpc-reflect/target/lib/checker-qual-3.43.0.jar to classpath\n",
      "\u001b[0m\u001b[0m\u001b[32mAdd /home/dsyer/dev/scratch/grpc-reflect/target/lib/spring-grpc-spring-boot-autoconfigure-0.11.0-SNAPSHOT.jar to classpath\n",
      "\u001b[0m\u001b[0m\u001b[32mAdd /home/dsyer/dev/scratch/grpc-reflect/target/lib/netty-codec-socks-4.1.119.Final.jar to classpath\n",
      "\u001b[0m\u001b[0m\u001b[32mAdd /home/dsyer/dev/scratch/grpc-reflect/target/lib/byte-buddy-agent-1.15.11.jar to classpath\n",
      "\u001b[0m\u001b[0m\u001b[32mAdd /home/dsyer/dev/scratch/grpc-reflect/target/lib/grpc-services-1.75.0.jar to classpath\n",
      "\u001b[0m\u001b[0m\u001b[32mAdd /home/dsyer/dev/scratch/grpc-reflect/target/lib/spring-boot-starter-logging-3.4.3.jar to classpath\n",
      "\u001b[0m\u001b[0m\u001b[32mAdd /home/dsyer/dev/scratch/grpc-reflect/target/lib/netty-transport-native-epoll-4.1.119.Final-linux-x86_64.jar to classpath\n",
      "\u001b[0m\u001b[0m\u001b[32mAdd /home/dsyer/dev/scratch/grpc-reflect/target/lib/netty-codec-http-4.1.119.Final.jar to classpath\n",
      "\u001b[0m\u001b[0m\u001b[32mAdd /home/dsyer/dev/scratch/grpc-reflect/target/lib/spring-boot-starter-actuator-3.4.3.jar to classpath\n",
      "\u001b[0m\u001b[0m\u001b[32mAdd /home/dsyer/dev/scratch/grpc-reflect/target/lib/hamcrest-2.2.jar to classpath\n",
      "\u001b[0m\u001b[0m\u001b[32mAdd /home/dsyer/dev/scratch/grpc-reflect/target/lib/netty-codec-http2-4.1.119.Final.jar to classpath\n",
      "\u001b[0m\u001b[0m\u001b[32mAdd /home/dsyer/dev/scratch/grpc-reflect/target/lib/logback-core-1.5.18.jar to classpath\n",
      "\u001b[0m\u001b[0m\u001b[32mAdd /home/dsyer/dev/scratch/grpc-reflect/target/lib/mockito-core-5.14.2.jar to classpath\n",
      "\u001b[0m\u001b[0m\u001b[32mAdd /home/dsyer/dev/scratch/grpc-reflect/target/lib/logback-classic-1.5.18.jar to classpath\n",
      "\u001b[0m\u001b[0m\u001b[32mAdd /home/dsyer/dev/scratch/grpc-reflect/target/lib/jsr305-3.0.2.jar to classpath\n",
      "\u001b[0m\u001b[0m\u001b[32mAdd /home/dsyer/dev/scratch/grpc-reflect/target/lib/spring-grpc-client-spring-boot-starter-0.11.0-SNAPSHOT.jar to classpath\n",
      "\u001b[0m\u001b[0m\u001b[32mAdd /home/dsyer/dev/scratch/grpc-reflect/target/lib/jackson-databind-2.18.3.jar to classpath\n",
      "\u001b[0m\u001b[0m\u001b[32mAdd /home/dsyer/dev/scratch/grpc-reflect/target/lib/spring-boot-test-autoconfigure-3.4.4.jar to classpath\n",
      "\u001b[0m\u001b[0m\u001b[32mAdd /home/dsyer/dev/scratch/grpc-reflect/target/lib/jackson-databind-2.18.2.jar to classpath\n",
      "\u001b[0m\u001b[0m\u001b[32mAdd /home/dsyer/dev/scratch/grpc-reflect/target/lib/apiguardian-api-1.1.2.jar to classpath\n",
      "\u001b[0m\u001b[0m\u001b[32mAdd /home/dsyer/dev/scratch/grpc-reflect/target/lib/failureaccess-1.0.2.jar to classpath\n",
      "\u001b[0m\u001b[0m\u001b[32mAdd /home/dsyer/dev/scratch/grpc-reflect/target/lib/spring-boot-test-autoconfigure-3.4.3.jar to classpath\n",
      "\u001b[0m\u001b[0m\u001b[32mAdd /home/dsyer/dev/scratch/grpc-reflect/target/lib/junit-jupiter-engine-5.11.4.jar to classpath\n",
      "\u001b[0m\u001b[0m\u001b[32mAdd /home/dsyer/dev/scratch/grpc-reflect/target/lib/grpc-core-1.75.0.jar to classpath\n",
      "\u001b[0m"
     ]
    }
   ],
   "source": [
    "%%jars\n",
    "app/target/lib"
   ]
  },
  {
   "cell_type": "code",
   "execution_count": null,
   "metadata": {},
   "outputs": [
    {
     "name": "stdout",
     "output_type": "stream",
     "text": [
      "\u001b[0m\u001b[32mAdd /home/dsyer/dev/scratch/grpc-reflect/target/test-classes to classpath\n",
      "\u001b[0m\u001b[0m\u001b[32mAdd /home/dsyer/dev/scratch/grpc-reflect/target/classes to classpath\n",
      "\u001b[0m"
     ]
    }
   ],
   "source": [
    "%classpath app/target/test-classes/\n",
    "%classpath app/target/classes/"
   ]
  },
  {
   "cell_type": "code",
   "execution_count": 4,
   "metadata": {},
   "outputs": [],
   "source": [
    "import com.google.protobuf.DescriptorProtos.FileDescriptorProto;\n",
    "import com.google.protobuf.DescriptorProtos.DescriptorProto;\n",
    "import com.google.protobuf.DescriptorProtos.FieldDescriptorProto;\n",
    "import com.google.protobuf.DescriptorProtos.ServiceDescriptorProto;\n",
    "import com.google.protobuf.DescriptorProtos.MethodDescriptorProto;"
   ]
  },
  {
   "cell_type": "code",
   "execution_count": 5,
   "metadata": {},
   "outputs": [],
   "source": [
    "import com.google.protobuf.Descriptors.FileDescriptor;\n",
    "import com.google.protobuf.Descriptors.Descriptor;\n",
    "import com.google.protobuf.Descriptors.FieldDescriptor;"
   ]
  },
  {
   "cell_type": "code",
   "execution_count": 6,
   "metadata": {},
   "outputs": [],
   "source": [
    "import com.google.protobuf.GeneratedMessage;\n",
    "import com.google.protobuf.DynamicMessage;"
   ]
  },
  {
   "cell_type": "markdown",
   "metadata": {},
   "source": [
    "To open up reflection for the fields in a message you need a `FileDescriptor`. The file descriptor has a list of message types that are themselves each a `Descriptor`. This is the `Descriptor` for the `Foo` message:\n"
   ]
  },
  {
   "cell_type": "code",
   "execution_count": 7,
   "metadata": {},
   "outputs": [],
   "source": [
    "import com.google.protobuf.*;"
   ]
  },
  {
   "cell_type": "code",
   "execution_count": 40,
   "metadata": {},
   "outputs": [],
   "source": [
    "var echo = ServiceDescriptorProto.newBuilder()\n",
    "\t.setName(\"Foo\")\n",
    "\t.addMethod(\n",
    "\t\tMethodDescriptorProto.newBuilder()\n",
    "\t\t\t.setName(\"Echo\")\n",
    "\t\t\t.setInputType(\"FooRequest\")\n",
    "\t\t\t.setOutputType(\"FooRequest\")\n",
    "\t\t\t.build()\n",
    "\t).build();"
   ]
  },
  {
   "cell_type": "code",
   "execution_count": 41,
   "metadata": {},
   "outputs": [],
   "source": [
    "var foot = DescriptorProto.newBuilder()\n",
    ".setName(\"FooRequest\")\n",
    ".addField(\n",
    "\tFieldDescriptorProto.newBuilder()\n",
    "\t\t.setName(\"name\")\n",
    "\t\t.setNumber(1)\n",
    "\t\t.setType(FieldDescriptorProto.Type.TYPE_STRING)\n",
    ")\n",
    ".addField(\n",
    "\tFieldDescriptorProto.newBuilder()\n",
    "\t\t.setName(\"age\")\n",
    "\t\t.setNumber(2)\n",
    "\t\t.setType(FieldDescriptorProto.Type.TYPE_INT32)\n",
    ").build();"
   ]
  },
  {
   "cell_type": "code",
   "execution_count": 42,
   "metadata": {},
   "outputs": [],
   "source": [
    "var food = FileDescriptorProto.newBuilder()\n",
    "\t.setName(\"foo.proto\")\n",
    "\t.setSyntax(\"proto3\")\n",
    "\t.addMessageType(foot)\n",
    "\t.addService(echo)\n",
    "\t.build()"
   ]
  },
  {
   "cell_type": "code",
   "execution_count": 43,
   "metadata": {},
   "outputs": [],
   "source": [
    "var desc = FileDescriptor.buildFrom(food, new FileDescriptor[0]).getMessageTypes().get(0)"
   ]
  },
  {
   "cell_type": "code",
   "execution_count": 44,
   "metadata": {},
   "outputs": [
    {
     "data": {
      "text/plain": [
       "FooRequest"
      ]
     },
     "execution_count": 44,
     "metadata": {},
     "output_type": "execute_result"
    }
   ],
   "source": [
    "desc.getName()"
   ]
  },
  {
   "cell_type": "code",
   "execution_count": 45,
   "metadata": {},
   "outputs": [],
   "source": [
    "var service = FileDescriptor.buildFrom(food, new FileDescriptor[0]).getServices().get(0)"
   ]
  },
  {
   "cell_type": "code",
   "execution_count": 31,
   "metadata": {},
   "outputs": [
    {
     "data": {
      "text/plain": [
       "[Foo.name, Foo.age]"
      ]
     },
     "execution_count": 31,
     "metadata": {},
     "output_type": "execute_result"
    }
   ],
   "source": [
    "desc.getFields()"
   ]
  },
  {
   "cell_type": "markdown",
   "metadata": {},
   "source": [
    "Now `desc` is the \"pure\" form of the `DescriptorProto` called `foot`. A `Descriptor` can be inspected to pull out field metadata:"
   ]
  },
  {
   "cell_type": "code",
   "execution_count": 141,
   "metadata": {},
   "outputs": [
    {
     "data": {
      "text/plain": [
       "name: \"name\"\n",
       "number: 1\n",
       "type: TYPE_STRING\n"
      ]
     },
     "execution_count": 141,
     "metadata": {},
     "output_type": "execute_result"
    }
   ],
   "source": [
    "desc.findFieldByName(\"name\").toProto()"
   ]
  },
  {
   "cell_type": "code",
   "execution_count": 46,
   "metadata": {},
   "outputs": [],
   "source": [
    "var foo = DynamicMessage.newBuilder(desc).setField(\n",
    "\tdesc.findFieldByName(\"name\"), \"foo\"\n",
    ").build()"
   ]
  },
  {
   "cell_type": "code",
   "execution_count": 16,
   "metadata": {},
   "outputs": [],
   "source": [
    "import io.grpc.MethodDescriptor;\n",
    "import io.grpc.protobuf.ProtoUtils;"
   ]
  },
  {
   "cell_type": "code",
   "execution_count": 47,
   "metadata": {},
   "outputs": [
    {
     "data": {
      "text/plain": [
       "Foo"
      ]
     },
     "execution_count": 47,
     "metadata": {},
     "output_type": "execute_result"
    }
   ],
   "source": [
    "service.getFullName()"
   ]
  },
  {
   "cell_type": "code",
   "execution_count": 48,
   "metadata": {},
   "outputs": [],
   "source": [
    "var marshaller = ProtoUtils.marshaller(DynamicMessage.newBuilder(foot).build());\n",
    "var methodDescriptor = MethodDescriptor\n",
    "\t.<DynamicMessage, DynamicMessage>newBuilder()\n",
    "\t.setType(MethodDescriptor.MethodType.UNKNOWN)\n",
    "\t.setFullMethodName(\n",
    "\t\t\tMethodDescriptor.generateFullMethodName(service.getFullName(), \"Echo\"))\n",
    "\t.setRequestMarshaller(marshaller)\n",
    "\t.setResponseMarshaller(marshaller)\n",
    "\t.build();"
   ]
  },
  {
   "cell_type": "code",
   "execution_count": null,
   "metadata": {},
   "outputs": [],
   "source": [
    "import io.grpc.netty.NettyChannelBuilder;\n",
    "import io.grpc.InsecureChannelCredentials;\n",
    "import io.grpc.CallOptions;\n"
   ]
  },
  {
   "cell_type": "code",
   "execution_count": 33,
   "metadata": {},
   "outputs": [],
   "source": [
    "import io.grpc.ClientCall;\n",
    "import io.grpc.stub.ClientCalls;\n",
    "import io.grpc.Metadata;"
   ]
  },
  {
   "cell_type": "code",
   "execution_count": 62,
   "metadata": {},
   "outputs": [],
   "source": [
    "var channel = NettyChannelBuilder.forTarget(\"localhost:9090\", InsecureChannelCredentials.create()).build();"
   ]
  },
  {
   "cell_type": "code",
   "execution_count": 63,
   "metadata": {},
   "outputs": [],
   "source": [
    "var response = ClientCalls.blockingUnaryCall(channel, methodDescriptor, CallOptions.DEFAULT, foo)"
   ]
  },
  {
   "cell_type": "code",
   "execution_count": 58,
   "metadata": {},
   "outputs": [
    {
     "data": {
      "text/plain": [
       "name: \"foo\"\n"
      ]
     },
     "execution_count": 58,
     "metadata": {},
     "output_type": "execute_result"
    }
   ],
   "source": [
    "response"
   ]
  },
  {
   "cell_type": "markdown",
   "metadata": {},
   "source": [
    "Alternative form:"
   ]
  },
  {
   "cell_type": "code",
   "execution_count": null,
   "metadata": {},
   "outputs": [
    {
     "data": {
      "text/plain": [
       "name: \"foo\"\n"
      ]
     },
     "execution_count": 59,
     "metadata": {},
     "output_type": "execute_result"
    }
   ],
   "source": [
    "var call = channel.newCall(methodDescriptor, CallOptions.DEFAULT);\n",
    "var response = ClientCalls.blockingUnaryCall(call, foo)"
   ]
  },
  {
   "cell_type": "code",
   "execution_count": null,
   "metadata": {},
   "outputs": [],
   "source": []
  }
 ],
 "metadata": {
  "kernelspec": {
   "display_name": "java (Rapaio/j!)",
   "language": "java",
   "name": "jbang-rapaio"
  },
  "language_info": {
   "codemirror_mode": "java",
   "file_extension": ".jshell",
   "mimetype": "text/x-java-source",
   "name": "java",
   "nbconvert_exporter": "script",
   "pygments_lexer": "java",
   "version": "22.0.2+9"
  }
 },
 "nbformat": 4,
 "nbformat_minor": 2
}
