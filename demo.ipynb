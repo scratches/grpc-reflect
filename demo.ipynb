{
 "cells": [
  {
   "cell_type": "code",
   "execution_count": 1,
   "metadata": {},
   "outputs": [
    {
     "name": "stdout",
     "output_type": "stream",
     "text": [
      "Hello World!\n"
     ]
    }
   ],
   "source": [
    "System.out.println(\"Hello World!\")"
   ]
  },
  {
   "cell_type": "code",
   "execution_count": 2,
   "metadata": {},
   "outputs": [
    {
     "name": "stdout",
     "output_type": "stream",
     "text": [
      "\u001b[0m\u001b[32mFound 108 jar files.\n",
      "\u001b[0m\u001b[0m\u001b[32mAdd /home/dsyer/dev/scratch/grpc-reflect/app/target/lib/netty-codec-4.1.121.Final.jar to classpath\n",
      "\u001b[0m\u001b[0m\u001b[32mAdd /home/dsyer/dev/scratch/grpc-reflect/app/target/lib/spring-beans-6.2.7.jar to classpath\n",
      "\u001b[0m\u001b[0m\u001b[32mAdd /home/dsyer/dev/scratch/grpc-reflect/app/target/lib/jakarta.activation-api-2.1.3.jar to classpath\n",
      "\u001b[0m\u001b[0m\u001b[32mAdd /home/dsyer/dev/scratch/grpc-reflect/app/target/lib/assertj-core-3.27.3.jar to classpath\n",
      "\u001b[0m\u001b[0m\u001b[32mAdd /home/dsyer/dev/scratch/grpc-reflect/app/target/lib/spring-grpc-core-0.9.0-SNAPSHOT.jar to classpath\n",
      "\u001b[0m\u001b[0m\u001b[32mAdd /home/dsyer/dev/scratch/grpc-reflect/app/target/lib/accessors-smart-2.5.2.jar to classpath\n",
      "\u001b[0m\u001b[0m\u001b[32mAdd /home/dsyer/dev/scratch/grpc-reflect/app/target/lib/junit-4.13.2.jar to classpath\n",
      "\u001b[0m\u001b[0m\u001b[32mAdd /home/dsyer/dev/scratch/grpc-reflect/app/target/lib/objenesis-3.3.jar to classpath\n",
      "\u001b[0m\u001b[0m\u001b[32mAdd /home/dsyer/dev/scratch/grpc-reflect/app/target/lib/byte-buddy-agent-1.17.5.jar to classpath\n",
      "\u001b[0m\u001b[0m\u001b[32mAdd /home/dsyer/dev/scratch/grpc-reflect/app/target/lib/android-json-0.0.20131108.vaadin1.jar to classpath\n",
      "\u001b[0m\u001b[0m\u001b[32mAdd /home/dsyer/dev/scratch/grpc-reflect/app/target/lib/gson-2.13.1.jar to classpath\n",
      "\u001b[0m\u001b[0m\u001b[32mAdd /home/dsyer/dev/scratch/grpc-reflect/app/target/lib/micrometer-commons-1.15.0.jar to classpath\n",
      "\u001b[0m\u001b[0m\u001b[32mAdd /home/dsyer/dev/scratch/grpc-reflect/app/target/lib/netty-transport-classes-epoll-4.1.121.Final.jar to classpath\n",
      "\u001b[0m\u001b[0m\u001b[32mAdd /home/dsyer/dev/scratch/grpc-reflect/app/target/lib/json-path-2.9.0.jar to classpath\n",
      "\u001b[0m\u001b[0m\u001b[32mAdd /home/dsyer/dev/scratch/grpc-reflect/app/target/lib/grpc-netty-1.72.0.jar to classpath\n",
      "\u001b[0m\u001b[0m\u001b[32mAdd /home/dsyer/dev/scratch/grpc-reflect/app/target/lib/netty-resolver-4.1.121.Final.jar to classpath\n",
      "\u001b[0m\u001b[0m\u001b[32mAdd /home/dsyer/dev/scratch/grpc-reflect/app/target/lib/spring-aop-6.2.7.jar to classpath\n",
      "\u001b[0m\u001b[0m\u001b[32mAdd /home/dsyer/dev/scratch/grpc-reflect/app/target/lib/spring-boot-test-autoconfigure-3.5.0.jar to classpath\n",
      "\u001b[0m\u001b[0m\u001b[32mAdd /home/dsyer/dev/scratch/grpc-reflect/app/target/lib/jackson-annotations-2.19.0.jar to classpath\n",
      "\u001b[0m\u001b[0m\u001b[32mAdd /home/dsyer/dev/scratch/grpc-reflect/app/target/lib/grpc-util-1.72.0.jar to classpath\n",
      "\u001b[0m\u001b[0m\u001b[32mAdd /home/dsyer/dev/scratch/grpc-reflect/app/target/lib/protobuf-java-util-4.30.2.jar to classpath\n",
      "\u001b[0m\u001b[0m\u001b[32mAdd /home/dsyer/dev/scratch/grpc-reflect/app/target/lib/awaitility-4.3.0.jar to classpath\n",
      "\u001b[0m\u001b[0m\u001b[32mAdd /home/dsyer/dev/scratch/grpc-reflect/app/target/lib/spring-grpc-client-spring-boot-starter-0.9.0-SNAPSHOT.jar to classpath\n",
      "\u001b[0m\u001b[0m\u001b[32mAdd /home/dsyer/dev/scratch/grpc-reflect/app/target/lib/netty-handler-proxy-4.1.121.Final.jar to classpath\n",
      "\u001b[0m\u001b[0m\u001b[32mAdd /home/dsyer/dev/scratch/grpc-reflect/app/target/lib/netty-buffer-4.1.121.Final.jar to classpath\n",
      "\u001b[0m\u001b[0m\u001b[32mAdd /home/dsyer/dev/scratch/grpc-reflect/app/target/lib/netty-codec-http-4.1.121.Final.jar to classpath\n",
      "\u001b[0m\u001b[0m\u001b[32mAdd /home/dsyer/dev/scratch/grpc-reflect/app/target/lib/grpc-protobuf-1.72.0.jar to classpath\n",
      "\u001b[0m\u001b[0m\u001b[32mAdd /home/dsyer/dev/scratch/grpc-reflect/app/target/lib/opentest4j-1.3.0.jar to classpath\n",
      "\u001b[0m\u001b[0m\u001b[32mAdd /home/dsyer/dev/scratch/grpc-reflect/app/target/lib/spring-boot-test-3.5.0.jar to classpath\n",
      "\u001b[0m\u001b[0m\u001b[32mAdd /home/dsyer/dev/scratch/grpc-reflect/app/target/lib/junit-jupiter-engine-5.12.2.jar to classpath\n",
      "\u001b[0m\u001b[0m\u001b[32mAdd /home/dsyer/dev/scratch/grpc-reflect/app/target/lib/spring-boot-starter-logging-3.5.0.jar to classpath\n",
      "\u001b[0m\u001b[0m\u001b[32mAdd /home/dsyer/dev/scratch/grpc-reflect/app/target/lib/jakarta.annotation-api-2.1.1.jar to classpath\n",
      "\u001b[0m\u001b[0m\u001b[32mAdd /home/dsyer/dev/scratch/grpc-reflect/app/target/lib/spring-expression-6.2.7.jar to classpath\n",
      "\u001b[0m\u001b[0m\u001b[32mAdd /home/dsyer/dev/scratch/grpc-reflect/app/target/lib/junit-jupiter-api-5.12.2.jar to classpath\n",
      "\u001b[0m\u001b[0m\u001b[32mAdd /home/dsyer/dev/scratch/grpc-reflect/app/target/lib/json-smart-2.5.2.jar to classpath\n",
      "\u001b[0m\u001b[0m\u001b[32mAdd /home/dsyer/dev/scratch/grpc-reflect/app/target/lib/jsonassert-1.5.3.jar to classpath\n",
      "\u001b[0m\u001b[0m\u001b[32mAdd /home/dsyer/dev/scratch/grpc-reflect/app/target/lib/log4j-api-2.24.3.jar to classpath\n",
      "\u001b[0m\u001b[0m\u001b[32mAdd /home/dsyer/dev/scratch/grpc-reflect/app/target/lib/mockito-core-5.17.0.jar to classpath\n",
      "\u001b[0m\u001b[0m\u001b[32mAdd /home/dsyer/dev/scratch/grpc-reflect/app/target/lib/grpc-testing-1.72.0.jar to classpath\n",
      "\u001b[0m\u001b[0m\u001b[32mAdd /home/dsyer/dev/scratch/grpc-reflect/app/target/lib/junit-platform-engine-1.12.2.jar to classpath\n",
      "\u001b[0m\u001b[0m\u001b[32mAdd /home/dsyer/dev/scratch/grpc-reflect/app/target/lib/jackson-datatype-jsr310-2.19.0.jar to classpath\n",
      "\u001b[0m\u001b[0m\u001b[32mAdd /home/dsyer/dev/scratch/grpc-reflect/app/target/lib/proto-google-common-protos-2.54.1.jar to classpath\n",
      "\u001b[0m\u001b[0m\u001b[32mAdd /home/dsyer/dev/scratch/grpc-reflect/app/target/lib/log4j-to-slf4j-2.24.3.jar to classpath\n",
      "\u001b[0m\u001b[0m\u001b[32mAdd /home/dsyer/dev/scratch/grpc-reflect/app/target/lib/netty-transport-native-unix-common-4.1.121.Final.jar to classpath\n",
      "\u001b[0m\u001b[0m\u001b[32mAdd /home/dsyer/dev/scratch/grpc-reflect/app/target/lib/protobuf-java-4.30.2.jar to classpath\n",
      "\u001b[0m\u001b[0m\u001b[32mAdd /home/dsyer/dev/scratch/grpc-reflect/app/target/lib/micrometer-core-1.15.0.jar to classpath\n",
      "\u001b[0m\u001b[0m\u001b[32mAdd /home/dsyer/dev/scratch/grpc-reflect/app/target/lib/asm-9.7.1.jar to classpath\n",
      "\u001b[0m\u001b[0m\u001b[32mAdd /home/dsyer/dev/scratch/grpc-reflect/app/target/lib/byte-buddy-1.17.5.jar to classpath\n",
      "\u001b[0m\u001b[0m\u001b[32mAdd /home/dsyer/dev/scratch/grpc-reflect/app/target/lib/jakarta.xml.bind-api-4.0.2.jar to classpath\n",
      "\u001b[0m\u001b[0m\u001b[32mAdd /home/dsyer/dev/scratch/grpc-reflect/app/target/lib/jul-to-slf4j-2.0.17.jar to classpath\n",
      "\u001b[0m\u001b[0m\u001b[32mAdd /home/dsyer/dev/scratch/grpc-reflect/app/target/lib/HdrHistogram-2.2.2.jar to classpath\n",
      "\u001b[0m\u001b[0m\u001b[32mAdd /home/dsyer/dev/scratch/grpc-reflect/app/target/lib/grpc-stub-1.72.0.jar to classpath\n",
      "\u001b[0m\u001b[0m\u001b[32mAdd /home/dsyer/dev/scratch/grpc-reflect/app/target/lib/netty-transport-native-epoll-4.1.121.Final-linux-x86_64.jar to classpath\n",
      "\u001b[0m\u001b[0m\u001b[32mAdd /home/dsyer/dev/scratch/grpc-reflect/app/target/lib/slf4j-api-2.0.17.jar to classpath\n",
      "\u001b[0m\u001b[0m\u001b[32mAdd /home/dsyer/dev/scratch/grpc-reflect/app/target/lib/spring-grpc-server-spring-boot-starter-0.9.0-SNAPSHOT.jar to classpath\n",
      "\u001b[0m\u001b[0m\u001b[32mAdd /home/dsyer/dev/scratch/grpc-reflect/app/target/lib/grpc-inprocess-1.72.0.jar to classpath\n",
      "\u001b[0m\u001b[0m\u001b[32mAdd /home/dsyer/dev/scratch/grpc-reflect/app/target/lib/LatencyUtils-2.0.3.jar to classpath\n",
      "\u001b[0m\u001b[0m\u001b[32mAdd /home/dsyer/dev/scratch/grpc-reflect/app/target/lib/perfmark-api-0.27.0.jar to classpath\n",
      "\u001b[0m\u001b[0m\u001b[32mAdd /home/dsyer/dev/scratch/grpc-reflect/app/target/lib/junit-platform-commons-1.12.2.jar to classpath\n",
      "\u001b[0m\u001b[0m\u001b[32mAdd /home/dsyer/dev/scratch/grpc-reflect/app/target/lib/jackson-dataformat-protobuf-2.19.0.jar to classpath\n",
      "\u001b[0m\u001b[0m\u001b[32mAdd /home/dsyer/dev/scratch/grpc-reflect/app/target/lib/spring-test-6.2.7.jar to classpath\n",
      "\u001b[0m\u001b[0m\u001b[32mAdd /home/dsyer/dev/scratch/grpc-reflect/app/target/lib/animal-sniffer-annotations-1.24.jar to classpath\n",
      "\u001b[0m\u001b[0m\u001b[32mAdd /home/dsyer/dev/scratch/grpc-reflect/app/target/lib/netty-codec-http2-4.1.121.Final.jar to classpath\n",
      "\u001b[0m\u001b[0m\u001b[32mAdd /home/dsyer/dev/scratch/grpc-reflect/app/target/lib/spring-boot-starter-3.5.0.jar to classpath\n",
      "\u001b[0m\u001b[0m\u001b[32mAdd /home/dsyer/dev/scratch/grpc-reflect/app/target/lib/spring-core-6.2.7.jar to classpath\n",
      "\u001b[0m\u001b[0m\u001b[32mAdd /home/dsyer/dev/scratch/grpc-reflect/app/target/lib/hamcrest-3.0.jar to classpath\n",
      "\u001b[0m\u001b[0m\u001b[32mAdd /home/dsyer/dev/scratch/grpc-reflect/app/target/lib/netty-codec-socks-4.1.121.Final.jar to classpath\n",
      "\u001b[0m\u001b[0m\u001b[32mAdd /home/dsyer/dev/scratch/grpc-reflect/app/target/lib/jackson-databind-2.19.0.jar to classpath\n",
      "\u001b[0m\u001b[0m\u001b[32mAdd /home/dsyer/dev/scratch/grpc-reflect/app/target/lib/spring-boot-actuator-3.5.0.jar to classpath\n",
      "\u001b[0m\u001b[0m\u001b[32mAdd /home/dsyer/dev/scratch/grpc-reflect/app/target/lib/netty-transport-4.1.121.Final.jar to classpath\n",
      "\u001b[0m\u001b[0m\u001b[32mAdd /home/dsyer/dev/scratch/grpc-reflect/app/target/lib/spring-boot-starter-test-3.5.0.jar to classpath\n",
      "\u001b[0m\u001b[0m\u001b[32mAdd /home/dsyer/dev/scratch/grpc-reflect/app/target/lib/annotations-4.1.1.4.jar to classpath\n",
      "\u001b[0m\u001b[0m\u001b[32mAdd /home/dsyer/dev/scratch/grpc-reflect/app/target/lib/netty-handler-4.1.121.Final.jar to classpath\n",
      "\u001b[0m\u001b[0m\u001b[32mAdd /home/dsyer/dev/scratch/grpc-reflect/app/target/lib/spring-boot-actuator-autoconfigure-3.5.0.jar to classpath\n",
      "\u001b[0m\u001b[0m\u001b[32mAdd /home/dsyer/dev/scratch/grpc-reflect/app/target/lib/mockito-junit-jupiter-5.17.0.jar to classpath\n",
      "\u001b[0m\u001b[0m\u001b[32mAdd /home/dsyer/dev/scratch/grpc-reflect/app/target/lib/jackson-core-2.19.0.jar to classpath\n",
      "\u001b[0m\u001b[0m\u001b[32mAdd /home/dsyer/dev/scratch/grpc-reflect/app/target/lib/netty-common-4.1.121.Final.jar to classpath\n",
      "\u001b[0m\u001b[0m\u001b[32mAdd /home/dsyer/dev/scratch/grpc-reflect/app/target/lib/protoparser-4.0.3.jar to classpath\n",
      "\u001b[0m\u001b[0m\u001b[32mAdd /home/dsyer/dev/scratch/grpc-reflect/app/target/lib/spring-context-6.2.7.jar to classpath\n",
      "\u001b[0m\u001b[0m\u001b[32mAdd /home/dsyer/dev/scratch/grpc-reflect/app/target/lib/junit-jupiter-params-5.12.2.jar to classpath\n",
      "\u001b[0m\u001b[0m\u001b[32mAdd /home/dsyer/dev/scratch/grpc-reflect/app/target/lib/hamcrest-core-3.0.jar to classpath\n",
      "\u001b[0m\u001b[0m\u001b[32mAdd /home/dsyer/dev/scratch/grpc-reflect/app/target/lib/grpc-context-1.72.0.jar to classpath\n",
      "\u001b[0m\u001b[0m\u001b[32mAdd /home/dsyer/dev/scratch/grpc-reflect/app/target/lib/spring-boot-autoconfigure-3.5.0.jar to classpath\n",
      "\u001b[0m\u001b[0m\u001b[32mAdd /home/dsyer/dev/scratch/grpc-reflect/app/target/lib/j2objc-annotations-3.0.0.jar to classpath\n",
      "\u001b[0m\u001b[0m\u001b[32mAdd /home/dsyer/dev/scratch/grpc-reflect/app/target/lib/listenablefuture-9999.0-empty-to-avoid-conflict-with-guava.jar to classpath\n",
      "\u001b[0m\u001b[0m\u001b[32mAdd /home/dsyer/dev/scratch/grpc-reflect/app/target/lib/error_prone_annotations-2.30.0.jar to classpath\n",
      "\u001b[0m\u001b[0m\u001b[32mAdd /home/dsyer/dev/scratch/grpc-reflect/app/target/lib/grpc-api-1.72.0.jar to classpath\n",
      "\u001b[0m\u001b[0m\u001b[32mAdd /home/dsyer/dev/scratch/grpc-reflect/app/target/lib/guava-33.3.1-jre.jar to classpath\n",
      "\u001b[0m\u001b[0m\u001b[32mAdd /home/dsyer/dev/scratch/grpc-reflect/app/target/lib/spring-boot-starter-actuator-3.5.0.jar to classpath\n",
      "\u001b[0m\u001b[0m\u001b[32mAdd /home/dsyer/dev/scratch/grpc-reflect/app/target/lib/grpc-protobuf-lite-1.72.0.jar to classpath\n",
      "\u001b[0m\u001b[0m\u001b[32mAdd /home/dsyer/dev/scratch/grpc-reflect/app/target/lib/checker-qual-3.43.0.jar to classpath\n",
      "\u001b[0m\u001b[0m\u001b[32mAdd /home/dsyer/dev/scratch/grpc-reflect/app/target/lib/spring-jcl-6.2.7.jar to classpath\n",
      "\u001b[0m\u001b[0m\u001b[32mAdd /home/dsyer/dev/scratch/grpc-reflect/app/target/lib/junit-jupiter-5.12.2.jar to classpath\n",
      "\u001b[0m\u001b[0m\u001b[32mAdd /home/dsyer/dev/scratch/grpc-reflect/app/target/lib/spring-grpc-test-0.9.0-SNAPSHOT.jar to classpath\n",
      "\u001b[0m\u001b[0m\u001b[32mAdd /home/dsyer/dev/scratch/grpc-reflect/app/target/lib/spring-grpc-spring-boot-starter-0.9.0-SNAPSHOT.jar to classpath\n",
      "\u001b[0m\u001b[0m\u001b[32mAdd /home/dsyer/dev/scratch/grpc-reflect/app/target/lib/grpc-services-1.72.0.jar to classpath\n",
      "\u001b[0m\u001b[0m\u001b[32mAdd /home/dsyer/dev/scratch/grpc-reflect/app/target/lib/xmlunit-core-2.10.1.jar to classpath\n",
      "\u001b[0m\u001b[0m\u001b[32mAdd /home/dsyer/dev/scratch/grpc-reflect/app/target/lib/spring-grpc-spring-boot-autoconfigure-0.9.0-SNAPSHOT.jar to classpath\n",
      "\u001b[0m\u001b[0m\u001b[32mAdd /home/dsyer/dev/scratch/grpc-reflect/app/target/lib/spring-boot-3.5.0.jar to classpath\n",
      "\u001b[0m\u001b[0m\u001b[32mAdd /home/dsyer/dev/scratch/grpc-reflect/app/target/lib/logback-core-1.5.18.jar to classpath\n",
      "\u001b[0m\u001b[0m\u001b[32mAdd /home/dsyer/dev/scratch/grpc-reflect/app/target/lib/micrometer-observation-1.15.0.jar to classpath\n",
      "\u001b[0m\u001b[0m\u001b[32mAdd /home/dsyer/dev/scratch/grpc-reflect/app/target/lib/logback-classic-1.5.18.jar to classpath\n",
      "\u001b[0m\u001b[0m\u001b[32mAdd /home/dsyer/dev/scratch/grpc-reflect/app/target/lib/jsr305-3.0.2.jar to classpath\n",
      "\u001b[0m\u001b[0m\u001b[32mAdd /home/dsyer/dev/scratch/grpc-reflect/app/target/lib/apiguardian-api-1.1.2.jar to classpath\n",
      "\u001b[0m\u001b[0m\u001b[32mAdd /home/dsyer/dev/scratch/grpc-reflect/app/target/lib/failureaccess-1.0.2.jar to classpath\n",
      "\u001b[0m\u001b[0m\u001b[32mAdd /home/dsyer/dev/scratch/grpc-reflect/app/target/lib/micrometer-jakarta9-1.15.0.jar to classpath\n",
      "\u001b[0m\u001b[0m\u001b[32mAdd /home/dsyer/dev/scratch/grpc-reflect/app/target/lib/snakeyaml-2.4.jar to classpath\n",
      "\u001b[0m\u001b[0m\u001b[32mAdd /home/dsyer/dev/scratch/grpc-reflect/app/target/lib/grpc-core-1.72.0.jar to classpath\n",
      "\u001b[0m"
     ]
    }
   ],
   "source": [
    "%%jars\n",
    "app/target/lib"
   ]
  },
  {
   "cell_type": "code",
   "execution_count": 3,
   "metadata": {},
   "outputs": [
    {
     "name": "stdout",
     "output_type": "stream",
     "text": [
      "\u001b[0m\u001b[32mAdd /home/dsyer/dev/scratch/grpc-reflect/app/target/test-classes to classpath\n",
      "\u001b[0m\u001b[0m\u001b[32mAdd /home/dsyer/dev/scratch/grpc-reflect/app/target/classes to classpath\n",
      "\u001b[0m"
     ]
    }
   ],
   "source": [
    "%classpath app/target/test-classes/\n",
    "%classpath app/target/classes/"
   ]
  },
  {
   "cell_type": "code",
   "execution_count": 4,
   "metadata": {},
   "outputs": [
    {
     "name": "stdout",
     "output_type": "stream",
     "text": [
      "\n",
      "  .   ____          _            __ _ _\n",
      " /\\\\ / ___'_ __ _ _(_)_ __  __ _ \\ \\ \\ \\\n",
      "( ( )\\___ | '_ | '_| | '_ \\/ _` | \\ \\ \\ \\\n",
      " \\\\/  ___)| |_)| | | | | || (_| |  ) ) ) )\n",
      "  '  |____| .__|_| |_|_| |_\\__, | / / / /\n",
      " =========|_|==============|___/=/_/_/_/\n",
      "\n",
      " :: Spring Boot ::                (v3.5.0)\n",
      "\n"
     ]
    },
    {
     "name": "stderr",
     "output_type": "stream",
     "text": [
      "[Engine-thread-0] INFO org.springframework.boot.SpringApplication - Starting application using Java 22.0.2 with PID 175433 (started by dsyer in /home/dsyer/dev/scratch/grpc-reflect)\n",
      "[Engine-thread-0] INFO org.springframework.boot.SpringApplication - No active profile set, falling back to 1 default profile: \"default\"\n",
      "[Engine-thread-0] INFO org.springframework.grpc.server.NettyGrpcServerFactory - Registered gRPC service: grpc.reflection.v1.ServerReflection\n",
      "[Engine-thread-0] INFO org.springframework.grpc.server.NettyGrpcServerFactory - Registered gRPC service: grpc.health.v1.Health\n",
      "[Engine-thread-0] INFO org.springframework.grpc.server.lifecycle.GrpcServerLifecycle - gRPC Server started, listening on address: [/[0:0:0:0:0:0:0:0]:9090]\n",
      "[Engine-thread-0] INFO org.springframework.boot.SpringApplication - Started application in 2.035 seconds (process running for 38.629)\n"
     ]
    }
   ],
   "source": [
    "import org.springframework.grpc.sample.GrpcServerApplication;\n",
    "import org.springframework.boot.SpringApplication;\n",
    "var context = SpringApplication.run(GrpcServerApplication.class);"
   ]
  },
  {
   "cell_type": "code",
   "execution_count": 5,
   "metadata": {},
   "outputs": [
    {
     "name": "stderr",
     "output_type": "stream",
     "text": [
      "[Engine-thread-0] INFO org.springframework.grpc.server.lifecycle.GrpcServerLifecycle - Completed gRPC server shutdown\n"
     ]
    }
   ],
   "source": [
    "context.close()"
   ]
  },
  {
   "cell_type": "code",
   "execution_count": 6,
   "metadata": {},
   "outputs": [],
   "source": [
    "import org.springframework.grpc.sample.Foo;\n",
    "import com.fasterxml.jackson.dataformat.protobuf.ProtobufMapper;\n",
    "import com.fasterxml.jackson.dataformat.protobuf.schema.ProtobufSchemaLoader;"
   ]
  },
  {
   "cell_type": "code",
   "execution_count": 7,
   "metadata": {},
   "outputs": [],
   "source": [
    "var mapper = new ProtobufMapper();"
   ]
  },
  {
   "cell_type": "code",
   "execution_count": 8,
   "metadata": {},
   "outputs": [
    {
     "data": {
      "text/plain": [
       "// org.springframework.grpc.sample.Foo\n",
       "\n",
       "// Message for org.springframework.grpc.sample.Foo\n",
       "message Foo {\n",
       "  optional string name = 1;\n",
       "  optional int32 age = 2;\n",
       "}\n"
      ]
     },
     "execution_count": 8,
     "metadata": {},
     "output_type": "execute_result"
    }
   ],
   "source": [
    "mapper.generateSchemaFor(Foo.class)"
   ]
  },
  {
   "cell_type": "code",
   "execution_count": 18,
   "metadata": {},
   "outputs": [
    {
     "data": {
      "text/plain": [
       "\u001b[0m|    \u001b[1morg.springframework.context.ConfigurableApplicationContext \u001b[32mcontext\u001b[0m = \u001b[0morg.springframework.context.annotation.AnnotationConfigApplicationContext@6dabcc1b, started on Thu Apr 24 12:55:07 BST 2025\n",
       "\u001b[0m\u001b[0m|    \u001b[1mProtobufMapper \u001b[32mmapper\u001b[0m = \u001b[0mcom.fasterxml.jackson.dataformat.protobuf.ProtobufMapper@3561278d\n",
       "\u001b[0m\u001b[0m|    \u001b[1mcom.fasterxml.jackson.dataformat.protobuf.schema.FileDescriptorSet \u001b[32m$1\u001b[0m = \u001b[0mnull\n",
       "\u001b[0m\u001b[0m|    \u001b[1mcom.fasterxml.jackson.dataformat.protobuf.schema.ProtobufSchema \u001b[32m$2\u001b[0m = \u001b[0m// org.springframework.grpc.sample.Foo\n",
       "\n",
       "// Message for org.springframework.grpc.sample.Foo\n",
       "message Foo {\n",
       "  optional string name = 1;\n",
       "  optional int32 age = 2;\n",
       "}\n",
       "\n",
       "\u001b[0m\u001b[0m|    \u001b[1mcom.fasterxml.jackson.dataformat.protobuf.schema.ProtobufSchema \u001b[32m$3\u001b[0m = \u001b[0m// org.springframework.grpc.sample.GrpcServerService\n",
       "\n",
       "// Message for org.springframework.grpc.sample.GrpcServerService\n",
       "message GrpcServerService {}\n",
       "\n",
       "\u001b[0m"
      ]
     },
     "execution_count": 18,
     "metadata": {},
     "output_type": "execute_result"
    }
   ],
   "source": [
    "%jshell /vars"
   ]
  },
  {
   "cell_type": "code",
   "execution_count": 9,
   "metadata": {},
   "outputs": [],
   "source": [
    "var foos = mapper.generateSchemaFor(Foo.class);"
   ]
  },
  {
   "cell_type": "code",
   "execution_count": 15,
   "metadata": {},
   "outputs": [
    {
     "data": {
      "text/plain": [
       "class com.fasterxml.jackson.dataformat.protobuf.schema.ProtobufSchema"
      ]
     },
     "execution_count": 15,
     "metadata": {},
     "output_type": "execute_result"
    }
   ],
   "source": [
    "foos.getClass()"
   ]
  },
  {
   "cell_type": "code",
   "execution_count": 10,
   "metadata": {},
   "outputs": [
    {
     "data": {
      "text/plain": [
       "// org.springframework.grpc.sample.Foo\n",
       "\n",
       "// Message for org.springframework.grpc.sample.Foo\n",
       "message Foo {\n",
       "  optional string name = 1;\n",
       "  optional int32 age = 2;\n",
       "}\n"
      ]
     },
     "execution_count": 10,
     "metadata": {},
     "output_type": "execute_result"
    }
   ],
   "source": [
    "foos.getSource()"
   ]
  },
  {
   "cell_type": "code",
   "execution_count": 11,
   "metadata": {},
   "outputs": [],
   "source": [
    "import com.google.protobuf.DescriptorProtos.FileDescriptorProto;\n",
    "import com.google.protobuf.DescriptorProtos.DescriptorProto;\n",
    "import com.google.protobuf.DescriptorProtos.FieldDescriptorProto;\n",
    "import com.google.protobuf.DescriptorProtos.ServiceDescriptorProto;\n",
    "import com.google.protobuf.DescriptorProtos.MethodDescriptorProto;"
   ]
  },
  {
   "cell_type": "code",
   "execution_count": 12,
   "metadata": {},
   "outputs": [],
   "source": [
    "import com.google.protobuf.Descriptors.FileDescriptor;\n",
    "import com.google.protobuf.Descriptors.Descriptor;\n",
    "import com.google.protobuf.Descriptors.FieldDescriptor;"
   ]
  },
  {
   "cell_type": "markdown",
   "metadata": {},
   "source": [
    "The `FileDescriptorProto` only parses binary data, so we need to convert the text \".proto\" file to binary format. The `protoc` compiler can do this for us. The command is as follows:\n",
    "\n",
    "```bash\n",
    "protoc --descriptor_set_out=./foo.pb foo.proto\n",
    "```"
   ]
  },
  {
   "cell_type": "code",
   "execution_count": 18,
   "metadata": {},
   "outputs": [
    {
     "data": {
      "text/plain": [
       "name: \"\\n\\tfoo.proto\\\"/\\n\\vEchoRequest\\022\\027\\n\\004name\\030\\001 \\001(\\tH\\000R\\004name\\357\\277\\275\\001\\001B\\a\\n\\005_name2+\\n\\003Foo\\022$\\n\\004Echo\\022\\f.EchoRequest\\032\\f.EchoRequest\\\"\\000B3\\n%org.springframework.grpc.sample.protoB\\bFooProtoP\\001b\\006proto3\"\n"
      ]
     },
     "execution_count": 18,
     "metadata": {},
     "output_type": "execute_result"
    }
   ],
   "source": [
    "import org.springframework.core.io.FileSystemResource;\n",
    "var desc = FileDescriptorProto.parseFrom(new FileSystemResource(\"foo.pb\").getInputStream());\n",
    "desc"
   ]
  },
  {
   "cell_type": "code",
   "execution_count": 19,
   "metadata": {},
   "outputs": [
    {
     "data": {
      "text/plain": [
       "<ByteString@1e61af05 size=169 contents=\"\\n\\246\\001\\n\\tfoo.proto\\\"/\\n\\vEchoRequest\\022\\027\\n\\004name\\030\\001 \\001(\\tH\\000R\\004...\">"
      ]
     },
     "execution_count": 19,
     "metadata": {},
     "output_type": "execute_result"
    }
   ],
   "source": [
    "desc.toByteString()"
   ]
  },
  {
   "cell_type": "code",
   "execution_count": 20,
   "metadata": {},
   "outputs": [
    {
     "data": {
      "text/plain": [
       "name: \"\\n\\tfoo.proto\\\"/\\n\\vEchoRequest\\022\\027\\n\\004name\\030\\001 \\001(\\tH\\000R\\004name\\357\\277\\275\\001\\001B\\a\\n\\005_name2+\\n\\003Foo\\022$\\n\\004Echo\\022\\f.EchoRequest\\032\\f.EchoRequest\\\"\\000B3\\n%org.springframework.grpc.sample.protoB\\bFooProtoP\\001b\\006proto3\"\n"
      ]
     },
     "execution_count": 20,
     "metadata": {},
     "output_type": "execute_result"
    }
   ],
   "source": [
    "FileDescriptorProto.parseFrom(desc.toByteString())"
   ]
  },
  {
   "cell_type": "code",
   "execution_count": 15,
   "metadata": {},
   "outputs": [],
   "source": [
    "import com.squareup.protoparser.ProtoParser;"
   ]
  },
  {
   "cell_type": "markdown",
   "metadata": {},
   "source": [
    "The old Square `protoparser` library can also be used to parse the `.proto` file as follows:"
   ]
  },
  {
   "cell_type": "code",
   "execution_count": 17,
   "metadata": {},
   "outputs": [
    {
     "data": {
      "text/plain": [
       "ProtoFile{filePath=foo.proto, packageName=null, syntax=PROTO_3, dependencies=[], publicDependencies=[], typeElements=[MessageElement{name=EchoRequest, qualifiedName=EchoRequest, documentation=, fields=[FieldElement{label=OPTIONAL, type=string, name=name, tag=1, documentation=, options=[]}], oneOfs=[], nestedElements=[], extensions=[], options=[]}], services=[ServiceElement{name=Foo, qualifiedName=Foo, documentation=, rpcs=[RpcElement{name=Echo, documentation=Sends a greeting, requestType=EchoRequest, responseType=EchoRequest, options=[]}], options=[]}], extendDeclarations=[], options=[OptionElement{name=java_multiple_files, kind=BOOLEAN, value=true, isParenthesized=false}, OptionElement{name=java_package, kind=STRING, value=org.springframework.grpc.sample.proto, isParenthesized=false}, OptionElement{name=java_outer_classname, kind=STRING, value=FooProto, isParenthesized=false}]}"
      ]
     },
     "execution_count": 17,
     "metadata": {},
     "output_type": "execute_result"
    }
   ],
   "source": [
    "var file = ProtoParser.parseUtf8(\"foo.proto\", new FileSystemResource(\"foo.proto\").getInputStream());\n",
    "file"
   ]
  },
  {
   "cell_type": "markdown",
   "metadata": {},
   "source": [
    "It says \"syntax=PROTO_3\" in the output, but it is actually using proto2 (and will not parse messages that contain implicit \"optional\" fields). The `protoparser` library is not recommended for use in new projects, as it is deprecated. It is probably better to use the `protoc` compiler to generate the binary descriptor file.\n"
   ]
  },
  {
   "cell_type": "markdown",
   "metadata": {},
   "source": [
    "The Jackson mapper can be used to parse the binary descriptor file. The `protoc` compiler generates a file called `foo.pb` that contains the binary descriptor. The Jackson mapper can then be used to parse this file and convert it into a Java object. The result is not a `protobuf-java` object, it's a parallel representation from Jackson."
   ]
  },
  {
   "cell_type": "code",
   "execution_count": null,
   "metadata": {},
   "outputs": [],
   "source": [
    "var ds = mapper.loadDescriptorSet(\n",
    "\tnew File(\"foo.pb\")\n",
    ");"
   ]
  },
  {
   "cell_type": "code",
   "execution_count": null,
   "metadata": {},
   "outputs": [
    {
     "data": {
      "text/plain": [
       "EchoRequest"
      ]
     },
     "metadata": {},
     "output_type": "display_data"
    }
   ],
   "source": [
    "ds.getFile()[0].message_type[0].name"
   ]
  },
  {
   "cell_type": "markdown",
   "metadata": {},
   "source": [
    "It can also parse the text `.proto`. Same kind of result, slightly different type of object. It is using the Square `protoparser` library under the hood."
   ]
  },
  {
   "cell_type": "code",
   "execution_count": 24,
   "metadata": {},
   "outputs": [],
   "source": [
    "import org.springframework.core.io.FileSystemResource;\n",
    "import org.springframework.util.StreamUtils;\n",
    "var resource = new FileSystemResource(\"src/main/proto/foo.proto\");"
   ]
  },
  {
   "cell_type": "code",
   "execution_count": null,
   "metadata": {},
   "outputs": [],
   "source": [
    "var schema = ProtobufSchemaLoader.std.load(resource.getInputStream());"
   ]
  },
  {
   "cell_type": "code",
   "execution_count": null,
   "metadata": {},
   "outputs": [
    {
     "data": {
      "text/plain": [
       "[EchoRequest]"
      ]
     },
     "metadata": {},
     "output_type": "display_data"
    }
   ],
   "source": [
    "schema.getMessageTypes()"
   ]
  },
  {
   "cell_type": "code",
   "execution_count": 25,
   "metadata": {},
   "outputs": [],
   "source": [
    "import com.google.protobuf.GeneratedMessage;\n",
    "import com.google.protobuf.DynamicMessage;"
   ]
  },
  {
   "cell_type": "markdown",
   "metadata": {},
   "source": [
    "You can build a descriptor file from the field metadata reflectively:"
   ]
  },
  {
   "cell_type": "code",
   "execution_count": 26,
   "metadata": {},
   "outputs": [],
   "source": [
    "var foot = DescriptorProto.newBuilder()\n",
    ".setName(\"Foo\")\n",
    ".addField(\n",
    "\tFieldDescriptorProto.newBuilder()\n",
    "\t\t.setName(\"name\")\n",
    "\t\t.setNumber(1)\n",
    "\t\t.setType(FieldDescriptorProto.Type.TYPE_STRING)\n",
    ")\n",
    ".addField(\n",
    "\tFieldDescriptorProto.newBuilder()\n",
    "\t\t.setName(\"age\")\n",
    "\t\t.setNumber(2)\n",
    "\t\t.setType(FieldDescriptorProto.Type.TYPE_INT32)\n",
    ").build();\n",
    "var food = FileDescriptorProto.newBuilder()\n",
    "\t.setName(\"foo.proto\")\n",
    "\t.setSyntax(\"proto3\")\n",
    "\t.addMessageType(foot).build()"
   ]
  },
  {
   "cell_type": "code",
   "execution_count": 27,
   "metadata": {},
   "outputs": [
    {
     "data": {
      "text/plain": [
       "name: \"foo.proto\"\n",
       "message_type {\n",
       "  name: \"Foo\"\n",
       "  field {\n",
       "    name: \"name\"\n",
       "    number: 1\n",
       "    type: TYPE_STRING\n",
       "  }\n",
       "  field {\n",
       "    name: \"age\"\n",
       "    number: 2\n",
       "    type: TYPE_INT32\n",
       "  }\n",
       "}\n",
       "syntax: \"proto3\"\n"
      ]
     },
     "execution_count": 27,
     "metadata": {},
     "output_type": "execute_result"
    }
   ],
   "source": [
    "food"
   ]
  },
  {
   "cell_type": "code",
   "execution_count": 28,
   "metadata": {},
   "outputs": [
    {
     "data": {
      "text/plain": [
       "class com.google.protobuf.DescriptorProtos$DescriptorProto"
      ]
     },
     "execution_count": 28,
     "metadata": {},
     "output_type": "execute_result"
    }
   ],
   "source": [
    "food.getMessageType(0).getClass()"
   ]
  },
  {
   "cell_type": "markdown",
   "metadata": {},
   "source": [
    "To open up reflection for the fields in a message you need a `FileDescriptor`. The file descriptor has a list of message types that are themselves each a `Descriptor`. This is the `Descriptor` for the `Foo` message:\n"
   ]
  },
  {
   "cell_type": "code",
   "execution_count": 29,
   "metadata": {},
   "outputs": [],
   "source": [
    "var desc = FileDescriptor.buildFrom(food, new FileDescriptor[0]).getMessageTypes().get(0)"
   ]
  },
  {
   "cell_type": "code",
   "execution_count": 30,
   "metadata": {},
   "outputs": [
    {
     "data": {
      "text/plain": [
       "Foo"
      ]
     },
     "execution_count": 30,
     "metadata": {},
     "output_type": "execute_result"
    }
   ],
   "source": [
    "desc.getName()"
   ]
  },
  {
   "cell_type": "code",
   "execution_count": 31,
   "metadata": {},
   "outputs": [
    {
     "data": {
      "text/plain": [
       "[Foo.name, Foo.age]"
      ]
     },
     "execution_count": 31,
     "metadata": {},
     "output_type": "execute_result"
    }
   ],
   "source": [
    "desc.getFields()"
   ]
  },
  {
   "cell_type": "code",
   "execution_count": 32,
   "metadata": {},
   "outputs": [
    {
     "data": {
      "text/plain": [
       "class com.google.protobuf.Descriptors$Descriptor"
      ]
     },
     "execution_count": 32,
     "metadata": {},
     "output_type": "execute_result"
    }
   ],
   "source": [
    "desc.getClass()"
   ]
  },
  {
   "cell_type": "markdown",
   "metadata": {},
   "source": [
    "Now `desc` is the \"pure\" form of the `DescriptorProto` called `foot`. A `Descriptor` can be inspected to pull out field metadata:"
   ]
  },
  {
   "cell_type": "code",
   "execution_count": 33,
   "metadata": {},
   "outputs": [
    {
     "data": {
      "text/plain": [
       "name: \"name\"\n",
       "number: 1\n",
       "type: TYPE_STRING\n"
      ]
     },
     "execution_count": 33,
     "metadata": {},
     "output_type": "execute_result"
    }
   ],
   "source": [
    "desc.findFieldByName(\"name\").toProto()"
   ]
  },
  {
   "cell_type": "code",
   "execution_count": 24,
   "metadata": {},
   "outputs": [],
   "source": [
    "import com.google.protobuf.*;"
   ]
  },
  {
   "cell_type": "code",
   "execution_count": 23,
   "metadata": {},
   "outputs": [],
   "source": [
    "var foo = DynamicMessage.newBuilder(desc).setField(\n",
    "\tdesc.findFieldByName(\"name\"), \"foo\"\n",
    ").build()"
   ]
  },
  {
   "cell_type": "code",
   "execution_count": 36,
   "metadata": {},
   "outputs": [],
   "source": [
    "var echo = ServiceDescriptorProto.newBuilder()\n",
    "\t.setName(\"FooService\")\n",
    "\t.addMethod(\n",
    "\t\tMethodDescriptorProto.newBuilder()\n",
    "\t\t\t.setName(\"Echo\")\n",
    "\t\t\t.setInputType(\"Foo\")\n",
    "\t\t\t.setOutputType(\"Foo\")\n",
    "\t\t\t.build()\n",
    "\t).build();"
   ]
  },
  {
   "cell_type": "code",
   "execution_count": 37,
   "metadata": {},
   "outputs": [],
   "source": [
    "var food = FileDescriptorProto.newBuilder()\n",
    "\t.setName(\"foo.proto\")\n",
    "\t.setSyntax(\"proto3\")\n",
    "\t.addMessageType(foot)\n",
    "\t.addService(echo)\n",
    "\t.build()"
   ]
  },
  {
   "cell_type": "code",
   "execution_count": null,
   "metadata": {},
   "outputs": [],
   "source": [
    "var file = FileDescriptor.buildFrom(food, new FileDescriptor[0]);"
   ]
  },
  {
   "cell_type": "code",
   "execution_count": 44,
   "metadata": {},
   "outputs": [
    {
     "data": {
      "text/plain": [
       "com.google.protobuf.Descriptors$Descriptor@1209a223"
      ]
     },
     "execution_count": 44,
     "metadata": {},
     "output_type": "execute_result"
    }
   ],
   "source": [
    "file.findServiceByName(\"FooService\").findMethodByName(\"Echo\").getInputType()"
   ]
  },
  {
   "cell_type": "code",
   "execution_count": 32,
   "metadata": {},
   "outputs": [
    {
     "data": {
      "text/plain": []
     },
     "execution_count": 32,
     "metadata": {},
     "output_type": "execute_result"
    }
   ],
   "source": [
    "foo.getUnknownFields()"
   ]
  },
  {
   "cell_type": "code",
   "execution_count": 43,
   "metadata": {},
   "outputs": [
    {
     "data": {
      "text/plain": [
       "0a03666f6f1001"
      ]
     },
     "execution_count": 43,
     "metadata": {},
     "output_type": "execute_result"
    }
   ],
   "source": [
    "var value = new Foo();\n",
    "value.setName(\"foo\");\n",
    "value.setAge(1);\n",
    "var buffer = mapper.writer(foos).writeValueAsBytes(value);\n",
    "HexFormat.of().formatHex(buffer)"
   ]
  },
  {
   "cell_type": "markdown",
   "metadata": {},
   "source": [
    "`0a` = `1:LEN`\n",
    "`03` = length of the string\n",
    "`666f6f` = \"foo\"\n",
    "`10` = `2:I32`\n",
    "`01` = value of the field (1)"
   ]
  },
  {
   "cell_type": "code",
   "execution_count": 47,
   "metadata": {},
   "outputs": [
    {
     "data": {
      "text/plain": [
       "org.springframework.grpc.sample.Foo@76daf20"
      ]
     },
     "execution_count": 47,
     "metadata": {},
     "output_type": "execute_result"
    }
   ],
   "source": [
    "mapper.reader(foos).readValue(buffer, Foo.class)"
   ]
  },
  {
   "cell_type": "code",
   "execution_count": 60,
   "metadata": {},
   "outputs": [
    {
     "data": {
      "text/plain": [
       "class com.fasterxml.jackson.dataformat.protobuf.schema.ProtobufField"
      ]
     },
     "execution_count": 60,
     "metadata": {},
     "output_type": "execute_result"
    }
   ],
   "source": [
    "foos.getRootType().fields().iterator().next().getClass()"
   ]
  },
  {
   "cell_type": "code",
   "execution_count": 66,
   "metadata": {},
   "outputs": [],
   "source": [
    "import org.springframework.beans.BeanUtils;"
   ]
  },
  {
   "cell_type": "code",
   "execution_count": 71,
   "metadata": {},
   "outputs": [
    {
     "data": {
      "text/plain": [
       "true"
      ]
     },
     "execution_count": 71,
     "metadata": {},
     "output_type": "execute_result"
    }
   ],
   "source": [
    "BeanUtils.getPropertyDescriptors(Void.class)[0].getWriteMethod()==null\n"
   ]
  },
  {
   "cell_type": "code",
   "execution_count": 72,
   "metadata": {},
   "outputs": [],
   "source": [
    "class FooService {\n",
    "\tpublic Foo echo(Foo foo) {\n",
    "\t\treturn foo;\n",
    "\t}\n",
    "}"
   ]
  },
  {
   "cell_type": "code",
   "execution_count": 12,
   "metadata": {},
   "outputs": [],
   "source": [
    "import org.springframework.util.ReflectionUtils;\n",
    "import org.springframework.beans.BeanUtils;"
   ]
  },
  {
   "cell_type": "code",
   "execution_count": 77,
   "metadata": {},
   "outputs": [],
   "source": [
    "ReflectionUtils.findMethod(FooService.class, \"none\", null)"
   ]
  },
  {
   "cell_type": "code",
   "execution_count": 3,
   "metadata": {},
   "outputs": [],
   "source": [
    "import org.springframework.grpc.sample.*;"
   ]
  },
  {
   "cell_type": "code",
   "execution_count": 5,
   "metadata": {},
   "outputs": [],
   "source": [
    "var registry = new DescriptorRegistry();\n",
    "registry.register(\"FooService/Echo\", Foo.class, Foo.class);"
   ]
  },
  {
   "cell_type": "code",
   "execution_count": 9,
   "metadata": {},
   "outputs": [
    {
     "data": {
      "text/plain": [
       "com.google.protobuf.Descriptors$MethodDescriptor@5881d3d3"
      ]
     },
     "execution_count": 9,
     "metadata": {},
     "output_type": "execute_result"
    }
   ],
   "source": [
    "registry.file(\"FooService\").findServiceByName(\"FooService\").findMethodByName(\"Echo\")"
   ]
  },
  {
   "cell_type": "code",
   "execution_count": 10,
   "metadata": {},
   "outputs": [],
   "source": [
    "record FooRecord(String name, int age) {}"
   ]
  },
  {
   "cell_type": "code",
   "execution_count": 18,
   "metadata": {},
   "outputs": [
    {
     "data": {
      "text/plain": [
       "public int REPL.$JShell$10$FooRecord.age()"
      ]
     },
     "execution_count": 18,
     "metadata": {},
     "output_type": "execute_result"
    }
   ],
   "source": [
    "BeanUtils.getPropertyDescriptors(FooRecord.class)[1].getReadMethod()"
   ]
  },
  {
   "cell_type": "code",
   "execution_count": 21,
   "metadata": {},
   "outputs": [
    {
     "data": {
      "text/plain": [
       "FooRecord[name=foo, age=10]"
      ]
     },
     "execution_count": 21,
     "metadata": {},
     "output_type": "execute_result"
    }
   ],
   "source": [
    "BeanUtils.instantiateClass(BeanUtils.getResolvableConstructor(FooRecord.class), \"foo\", 10)"
   ]
  },
  {
   "cell_type": "code",
   "execution_count": 22,
   "metadata": {},
   "outputs": [
    {
     "ename": "EvalException",
     "evalue": "Failed to instantiate [org.springframework.grpc.sample.Foo]: Illegal arguments for constructor",
     "output_type": "error",
     "traceback": [
      "\u001b[0m\u001b[1m\u001b[31morg.springframework.beans.BeanInstantiationException: Failed to instantiate [org.springframework.grpc.sample.Foo]: Illegal arguments for constructor\n\u001b[0m",
      "\u001b[0m\u001b[1m\u001b[34m   at org.springframework.beans.BeanUtils.instantiateClass(BeanUtils.java:219)\u001b[0m",
      "\u001b[0m\u001b[1m\u001b[34m   at .(#23:1)\u001b[0m",
      "\u001b[0m\u001b[0m\u001b[1m|--> BeanUtils.instantiateClass(BeanUtils.getResolvableConstructor(Foo.class), \"foo\", 10)\u001b[0m"
     ]
    }
   ],
   "source": [
    "BeanUtils.instantiateClass(BeanUtils.getResolvableConstructor(Foo.class), \"foo\", 10)"
   ]
  },
  {
   "cell_type": "code",
   "execution_count": 24,
   "metadata": {},
   "outputs": [],
   "source": [
    "import org.springframework.context.support.StaticApplicationContext;"
   ]
  },
  {
   "cell_type": "code",
   "execution_count": 30,
   "metadata": {},
   "outputs": [],
   "source": [
    "var context = new StaticApplicationContext();\n",
    "context.registerBean(\"age\", Integer.class, () -> 10);\n",
    "context.registerBean(\"name\", String.class, () -> \"foo\");\n",
    "context.registerBean(\"description\", String.class, () -> \"It's a Foo\");\n",
    "context.refresh();"
   ]
  },
  {
   "cell_type": "code",
   "execution_count": 31,
   "metadata": {},
   "outputs": [
    {
     "data": {
      "text/plain": [
       "FooRecord[name=foo, age=10]"
      ]
     },
     "execution_count": 31,
     "metadata": {},
     "output_type": "execute_result"
    }
   ],
   "source": [
    "context.getAutowireCapableBeanFactory().createBean(FooRecord.class)"
   ]
  },
  {
   "cell_type": "code",
   "execution_count": 3,
   "metadata": {},
   "outputs": [
    {
     "name": "stdout",
     "output_type": "stream",
     "text": [
      "class org.springframework.grpc.sample.GrpcServerApplicationTests$1\n",
      "class org.springframework.grpc.sample.GrpcServerApplicationTests$2\n",
      "class org.springframework.grpc.sample.GrpcServerApplicationTests$ExtraConfiguration\n",
      "class org.springframework.grpc.sample.GrpcServerApplicationTests\n",
      "class org.springframework.grpc.sample.Foo\n",
      "class org.springframework.grpc.sample.FooService$Input\n",
      "class org.springframework.grpc.sample.FooService$Output\n",
      "class org.springframework.grpc.sample.FooService\n",
      "class org.springframework.grpc.sample.GrpcServerApplication\n",
      "class org.springframework.grpc.sample.GrpcServerService\n",
      "class org.springframework.grpc.sample.Hello\n"
     ]
    }
   ],
   "source": [
    "import org.springframework.grpc.internal.ClasspathScanner;\n",
    "var scanner = new ClasspathScanner();\n",
    "scanner.scan(\"org.springframework.grpc.sample\", Object.class)\n",
    "\t.forEach(System.out::println);"
   ]
  },
  {
   "cell_type": "code",
   "execution_count": 9,
   "metadata": {},
   "outputs": [
    {
     "data": {
      "text/plain": [
       "true"
      ]
     },
     "execution_count": 9,
     "metadata": {},
     "output_type": "execute_result"
    }
   ],
   "source": [
    "FooClient.class.isAssignableFrom(FooClient.class)"
   ]
  },
  {
   "cell_type": "code",
   "execution_count": 7,
   "metadata": {},
   "outputs": [],
   "source": [
    "import org.springframework.grpc.sample.Foo;\n",
    "interface FooClient {\n",
    "\tFoo echo(Foo foo);\n",
    "}"
   ]
  }
 ],
 "metadata": {
  "kernelspec": {
   "display_name": "java (Rapaio/j!)",
   "language": "java",
   "name": "jbang-rapaio"
  },
  "language_info": {
   "codemirror_mode": "java",
   "file_extension": ".jshell",
   "mimetype": "text/x-java-source",
   "name": "java",
   "nbconvert_exporter": "script",
   "pygments_lexer": "java",
   "version": "22.0.2+9"
  }
 },
 "nbformat": 4,
 "nbformat_minor": 2
}
