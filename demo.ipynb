{
 "cells": [
  {
   "cell_type": "code",
   "execution_count": 1,
   "metadata": {},
   "outputs": [
    {
     "name": "stdout",
     "output_type": "stream",
     "text": [
      "Hello World!\n"
     ]
    }
   ],
   "source": [
    "System.out.println(\"Hello World!\")"
   ]
  },
  {
   "cell_type": "code",
   "execution_count": 2,
   "metadata": {},
   "outputs": [
    {
     "name": "stdout",
     "output_type": "stream",
     "text": [
      "\u001b[0m\u001b[32mFound 151 jar files.\n",
      "\u001b[0m\u001b[0m\u001b[32mAdd /home/dsyer/dev/scratch/grpc-reflect/target/lib/spring-beans-6.2.3.jar to classpath\n",
      "\u001b[0m\u001b[0m\u001b[32mAdd /home/dsyer/dev/scratch/grpc-reflect/target/lib/spring-boot-starter-3.4.3.jar to classpath\n",
      "\u001b[0m\u001b[0m\u001b[32mAdd /home/dsyer/dev/scratch/grpc-reflect/target/lib/jakarta.activation-api-2.1.3.jar to classpath\n",
      "\u001b[0m\u001b[0m\u001b[32mAdd /home/dsyer/dev/scratch/grpc-reflect/target/lib/snakeyaml-2.3.jar to classpath\n",
      "\u001b[0m\u001b[0m\u001b[32mAdd /home/dsyer/dev/scratch/grpc-reflect/target/lib/spring-grpc-test-0.8.0-SNAPSHOT.jar to classpath\n",
      "\u001b[0m\u001b[0m\u001b[32mAdd /home/dsyer/dev/scratch/grpc-reflect/target/lib/accessors-smart-2.5.2.jar to classpath\n",
      "\u001b[0m\u001b[0m\u001b[32mAdd /home/dsyer/dev/scratch/grpc-reflect/target/lib/junit-4.13.2.jar to classpath\n",
      "\u001b[0m\u001b[0m\u001b[32mAdd /home/dsyer/dev/scratch/grpc-reflect/target/lib/spring-grpc-server-spring-boot-starter-0.8.0-SNAPSHOT.jar to classpath\n",
      "\u001b[0m\u001b[0m\u001b[32mAdd /home/dsyer/dev/scratch/grpc-reflect/target/lib/objenesis-3.3.jar to classpath\n",
      "\u001b[0m\u001b[0m\u001b[32mAdd /home/dsyer/dev/scratch/grpc-reflect/target/lib/spring-grpc-spring-boot-starter-0.8.0-SNAPSHOT.jar to classpath\n",
      "\u001b[0m\u001b[0m\u001b[32mAdd /home/dsyer/dev/scratch/grpc-reflect/target/lib/jackson-core-2.18.3.jar to classpath\n",
      "\u001b[0m\u001b[0m\u001b[32mAdd /home/dsyer/dev/scratch/grpc-reflect/target/lib/spring-expression-6.2.3.jar to classpath\n",
      "\u001b[0m\u001b[0m\u001b[32mAdd /home/dsyer/dev/scratch/grpc-reflect/target/lib/android-json-0.0.20131108.vaadin1.jar to classpath\n",
      "\u001b[0m\u001b[0m\u001b[32mAdd /home/dsyer/dev/scratch/grpc-reflect/target/lib/spring-boot-starter-logging-3.4.4.jar to classpath\n",
      "\u001b[0m\u001b[0m\u001b[32mAdd /home/dsyer/dev/scratch/grpc-reflect/target/lib/spring-boot-starter-test-3.4.4.jar to classpath\n",
      "\u001b[0m\u001b[0m\u001b[32mAdd /home/dsyer/dev/scratch/grpc-reflect/target/lib/json-path-2.9.0.jar to classpath\n",
      "\u001b[0m\u001b[0m\u001b[32mAdd /home/dsyer/dev/scratch/grpc-reflect/target/lib/spring-boot-test-3.4.4.jar to classpath\n",
      "\u001b[0m\u001b[0m\u001b[32mAdd /home/dsyer/dev/scratch/grpc-reflect/target/lib/netty-resolver-4.1.118.Final.jar to classpath\n",
      "\u001b[0m\u001b[0m\u001b[32mAdd /home/dsyer/dev/scratch/grpc-reflect/target/lib/jackson-dataformat-protobuf-2.18.3.jar to classpath\n",
      "\u001b[0m\u001b[0m\u001b[32mAdd /home/dsyer/dev/scratch/grpc-reflect/target/lib/micrometer-jakarta9-1.14.5.jar to classpath\n",
      "\u001b[0m\u001b[0m\u001b[32mAdd /home/dsyer/dev/scratch/grpc-reflect/target/lib/grpc-netty-1.72.0.jar to classpath\n",
      "\u001b[0m\u001b[0m\u001b[32mAdd /home/dsyer/dev/scratch/grpc-reflect/target/lib/spring-aop-6.2.3.jar to classpath\n",
      "\u001b[0m\u001b[0m\u001b[32mAdd /home/dsyer/dev/scratch/grpc-reflect/target/lib/netty-codec-socks-4.1.118.Final.jar to classpath\n",
      "\u001b[0m\u001b[0m\u001b[32mAdd /home/dsyer/dev/scratch/grpc-reflect/target/lib/netty-buffer-4.1.118.Final.jar to classpath\n",
      "\u001b[0m\u001b[0m\u001b[32mAdd /home/dsyer/dev/scratch/grpc-reflect/target/lib/xmlunit-core-2.10.0.jar to classpath\n",
      "\u001b[0m\u001b[0m\u001b[32mAdd /home/dsyer/dev/scratch/grpc-reflect/target/lib/grpc-util-1.72.0.jar to classpath\n",
      "\u001b[0m\u001b[0m\u001b[32mAdd /home/dsyer/dev/scratch/grpc-reflect/target/lib/protobuf-java-util-4.30.2.jar to classpath\n",
      "\u001b[0m\u001b[0m\u001b[32mAdd /home/dsyer/dev/scratch/grpc-reflect/target/lib/spring-context-6.2.5.jar to classpath\n",
      "\u001b[0m\u001b[0m\u001b[32mAdd /home/dsyer/dev/scratch/grpc-reflect/target/lib/spring-boot-autoconfigure-3.4.3.jar to classpath\n",
      "\u001b[0m\u001b[0m\u001b[32mAdd /home/dsyer/dev/scratch/grpc-reflect/target/lib/jackson-datatype-jsr310-2.18.3.jar to classpath\n",
      "\u001b[0m\u001b[0m\u001b[32mAdd /home/dsyer/dev/scratch/grpc-reflect/target/lib/spring-jcl-6.2.5.jar to classpath\n",
      "\u001b[0m\u001b[0m\u001b[32mAdd /home/dsyer/dev/scratch/grpc-reflect/target/lib/spring-aop-6.2.5.jar to classpath\n",
      "\u001b[0m\u001b[0m\u001b[32mAdd /home/dsyer/dev/scratch/grpc-reflect/target/lib/spring-boot-starter-test-3.4.3.jar to classpath\n",
      "\u001b[0m\u001b[0m\u001b[32mAdd /home/dsyer/dev/scratch/grpc-reflect/target/lib/grpc-protobuf-1.72.0.jar to classpath\n",
      "\u001b[0m\u001b[0m\u001b[32mAdd /home/dsyer/dev/scratch/grpc-reflect/target/lib/netty-buffer-4.1.119.Final.jar to classpath\n",
      "\u001b[0m\u001b[0m\u001b[32mAdd /home/dsyer/dev/scratch/grpc-reflect/target/lib/logback-classic-1.5.16.jar to classpath\n",
      "\u001b[0m\u001b[0m\u001b[32mAdd /home/dsyer/dev/scratch/grpc-reflect/target/lib/opentest4j-1.3.0.jar to classpath\n",
      "\u001b[0m\u001b[0m\u001b[32mAdd /home/dsyer/dev/scratch/grpc-reflect/target/lib/netty-handler-4.1.119.Final.jar to classpath\n",
      "\u001b[0m\u001b[0m\u001b[32mAdd /home/dsyer/dev/scratch/grpc-reflect/target/lib/spring-boot-starter-3.4.4.jar to classpath\n",
      "\u001b[0m\u001b[0m\u001b[32mAdd /home/dsyer/dev/scratch/grpc-reflect/target/lib/assertj-core-3.26.3.jar to classpath\n",
      "\u001b[0m\u001b[0m\u001b[32mAdd /home/dsyer/dev/scratch/grpc-reflect/target/lib/jakarta.annotation-api-2.1.1.jar to classpath\n",
      "\u001b[0m\u001b[0m\u001b[32mAdd /home/dsyer/dev/scratch/grpc-reflect/target/lib/json-smart-2.5.2.jar to classpath\n",
      "\u001b[0m\u001b[0m\u001b[32mAdd /home/dsyer/dev/scratch/grpc-reflect/target/lib/jackson-core-2.18.2.jar to classpath\n",
      "\u001b[0m\u001b[0m\u001b[32mAdd /home/dsyer/dev/scratch/grpc-reflect/target/lib/jsonassert-1.5.3.jar to classpath\n",
      "\u001b[0m\u001b[0m\u001b[32mAdd /home/dsyer/dev/scratch/grpc-reflect/target/lib/spring-test-6.2.3.jar to classpath\n",
      "\u001b[0m\u001b[0m\u001b[32mAdd /home/dsyer/dev/scratch/grpc-reflect/target/lib/spring-test-6.2.5.jar to classpath\n",
      "\u001b[0m\u001b[0m\u001b[32mAdd /home/dsyer/dev/scratch/grpc-reflect/target/lib/log4j-api-2.24.3.jar to classpath\n",
      "\u001b[0m\u001b[0m\u001b[32mAdd /home/dsyer/dev/scratch/grpc-reflect/target/lib/netty-transport-native-unix-common-4.1.118.Final.jar to classpath\n",
      "\u001b[0m\u001b[0m\u001b[32mAdd /home/dsyer/dev/scratch/grpc-reflect/target/lib/grpc-testing-1.72.0.jar to classpath\n",
      "\u001b[0m\u001b[0m\u001b[32mAdd /home/dsyer/dev/scratch/grpc-reflect/target/lib/micrometer-jakarta9-1.14.4.jar to classpath\n",
      "\u001b[0m\u001b[0m\u001b[32mAdd /home/dsyer/dev/scratch/grpc-reflect/target/lib/spring-context-6.2.3.jar to classpath\n",
      "\u001b[0m\u001b[0m\u001b[32mAdd /home/dsyer/dev/scratch/grpc-reflect/target/lib/micrometer-observation-1.14.4.jar to classpath\n",
      "\u001b[0m\u001b[0m\u001b[32mAdd /home/dsyer/dev/scratch/grpc-reflect/target/lib/byte-buddy-1.15.11.jar to classpath\n",
      "\u001b[0m\u001b[0m\u001b[32mAdd /home/dsyer/dev/scratch/grpc-reflect/target/lib/spring-core-6.2.5.jar to classpath\n",
      "\u001b[0m\u001b[0m\u001b[32mAdd /home/dsyer/dev/scratch/grpc-reflect/target/lib/proto-google-common-protos-2.54.1.jar to classpath\n",
      "\u001b[0m\u001b[0m\u001b[32mAdd /home/dsyer/dev/scratch/grpc-reflect/target/lib/netty-common-4.1.118.Final.jar to classpath\n",
      "\u001b[0m\u001b[0m\u001b[32mAdd /home/dsyer/dev/scratch/grpc-reflect/target/lib/micrometer-commons-1.14.5.jar to classpath\n",
      "\u001b[0m\u001b[0m\u001b[32mAdd /home/dsyer/dev/scratch/grpc-reflect/target/lib/junit-jupiter-5.11.4.jar to classpath\n",
      "\u001b[0m\u001b[0m\u001b[32mAdd /home/dsyer/dev/scratch/grpc-reflect/target/lib/log4j-to-slf4j-2.24.3.jar to classpath\n",
      "\u001b[0m\u001b[0m\u001b[32mAdd /home/dsyer/dev/scratch/grpc-reflect/target/lib/protobuf-java-4.30.2.jar to classpath\n",
      "\u001b[0m\u001b[0m\u001b[32mAdd /home/dsyer/dev/scratch/grpc-reflect/target/lib/spring-boot-actuator-3.4.4.jar to classpath\n",
      "\u001b[0m\u001b[0m\u001b[32mAdd /home/dsyer/dev/scratch/grpc-reflect/target/lib/netty-common-4.1.119.Final.jar to classpath\n",
      "\u001b[0m\u001b[0m\u001b[32mAdd /home/dsyer/dev/scratch/grpc-reflect/target/lib/spring-grpc-core-0.8.0-SNAPSHOT.jar to classpath\n",
      "\u001b[0m\u001b[0m\u001b[32mAdd /home/dsyer/dev/scratch/grpc-reflect/target/lib/jul-to-slf4j-2.0.16.jar to classpath\n",
      "\u001b[0m\u001b[0m\u001b[32mAdd /home/dsyer/dev/scratch/grpc-reflect/target/lib/asm-9.7.1.jar to classpath\n",
      "\u001b[0m\u001b[0m\u001b[32mAdd /home/dsyer/dev/scratch/grpc-reflect/target/lib/netty-transport-classes-epoll-4.1.118.Final.jar to classpath\n",
      "\u001b[0m\u001b[0m\u001b[32mAdd /home/dsyer/dev/scratch/grpc-reflect/target/lib/hamcrest-core-2.2.jar to classpath\n",
      "\u001b[0m\u001b[0m\u001b[32mAdd /home/dsyer/dev/scratch/grpc-reflect/target/lib/jakarta.xml.bind-api-4.0.2.jar to classpath\n",
      "\u001b[0m\u001b[0m\u001b[32mAdd /home/dsyer/dev/scratch/grpc-reflect/target/lib/micrometer-core-1.14.4.jar to classpath\n",
      "\u001b[0m\u001b[0m\u001b[32mAdd /home/dsyer/dev/scratch/grpc-reflect/target/lib/spring-expression-6.2.5.jar to classpath\n",
      "\u001b[0m\u001b[0m\u001b[32mAdd /home/dsyer/dev/scratch/grpc-reflect/target/lib/spring-boot-actuator-autoconfigure-3.4.4.jar to classpath\n",
      "\u001b[0m\u001b[0m\u001b[32mAdd /home/dsyer/dev/scratch/grpc-reflect/target/lib/jul-to-slf4j-2.0.17.jar to classpath\n",
      "\u001b[0m\u001b[0m\u001b[32mAdd /home/dsyer/dev/scratch/grpc-reflect/target/lib/HdrHistogram-2.2.2.jar to classpath\n",
      "\u001b[0m\u001b[0m\u001b[32mAdd /home/dsyer/dev/scratch/grpc-reflect/target/lib/netty-codec-4.1.119.Final.jar to classpath\n",
      "\u001b[0m\u001b[0m\u001b[32mAdd /home/dsyer/dev/scratch/grpc-reflect/target/lib/netty-transport-native-unix-common-4.1.119.Final.jar to classpath\n",
      "\u001b[0m\u001b[0m\u001b[32mAdd /home/dsyer/dev/scratch/grpc-reflect/target/lib/grpc-stub-1.72.0.jar to classpath\n",
      "\u001b[0m\u001b[0m\u001b[32mAdd /home/dsyer/dev/scratch/grpc-reflect/target/lib/slf4j-api-2.0.16.jar to classpath\n",
      "\u001b[0m\u001b[0m\u001b[32mAdd /home/dsyer/dev/scratch/grpc-reflect/target/lib/mockito-junit-jupiter-5.14.2.jar to classpath\n",
      "\u001b[0m\u001b[0m\u001b[32mAdd /home/dsyer/dev/scratch/grpc-reflect/target/lib/slf4j-api-2.0.17.jar to classpath\n",
      "\u001b[0m\u001b[0m\u001b[32mAdd /home/dsyer/dev/scratch/grpc-reflect/target/lib/grpc-inprocess-1.72.0.jar to classpath\n",
      "\u001b[0m\u001b[0m\u001b[32mAdd /home/dsyer/dev/scratch/grpc-reflect/target/lib/junit-platform-commons-1.11.4.jar to classpath\n",
      "\u001b[0m\u001b[0m\u001b[32mAdd /home/dsyer/dev/scratch/grpc-reflect/target/lib/LatencyUtils-2.0.3.jar to classpath\n",
      "\u001b[0m\u001b[0m\u001b[32mAdd /home/dsyer/dev/scratch/grpc-reflect/target/lib/spring-boot-starter-actuator-3.4.4.jar to classpath\n",
      "\u001b[0m\u001b[0m\u001b[32mAdd /home/dsyer/dev/scratch/grpc-reflect/target/lib/netty-transport-native-epoll-4.1.118.Final-linux-x86_64.jar to classpath\n",
      "\u001b[0m\u001b[0m\u001b[32mAdd /home/dsyer/dev/scratch/grpc-reflect/target/lib/gson-2.11.0.jar to classpath\n",
      "\u001b[0m\u001b[0m\u001b[32mAdd /home/dsyer/dev/scratch/grpc-reflect/target/lib/perfmark-api-0.27.0.jar to classpath\n",
      "\u001b[0m\u001b[0m\u001b[32mAdd /home/dsyer/dev/scratch/grpc-reflect/target/lib/spring-boot-autoconfigure-3.4.4.jar to classpath\n",
      "\u001b[0m\u001b[0m\u001b[32mAdd /home/dsyer/dev/scratch/grpc-reflect/target/lib/spring-boot-3.4.3.jar to classpath\n",
      "\u001b[0m\u001b[0m\u001b[32mAdd /home/dsyer/dev/scratch/grpc-reflect/target/lib/netty-codec-4.1.118.Final.jar to classpath\n",
      "\u001b[0m\u001b[0m\u001b[32mAdd /home/dsyer/dev/scratch/grpc-reflect/target/lib/animal-sniffer-annotations-1.24.jar to classpath\n",
      "\u001b[0m\u001b[0m\u001b[32mAdd /home/dsyer/dev/scratch/grpc-reflect/target/lib/junit-jupiter-params-5.11.4.jar to classpath\n",
      "\u001b[0m\u001b[0m\u001b[32mAdd /home/dsyer/dev/scratch/grpc-reflect/target/lib/spring-boot-test-3.4.3.jar to classpath\n",
      "\u001b[0m\u001b[0m\u001b[32mAdd /home/dsyer/dev/scratch/grpc-reflect/target/lib/netty-handler-4.1.118.Final.jar to classpath\n",
      "\u001b[0m\u001b[0m\u001b[32mAdd /home/dsyer/dev/scratch/grpc-reflect/target/lib/jackson-datatype-jsr310-2.18.2.jar to classpath\n",
      "\u001b[0m\u001b[0m\u001b[32mAdd /home/dsyer/dev/scratch/grpc-reflect/target/lib/spring-boot-actuator-autoconfigure-3.4.3.jar to classpath\n",
      "\u001b[0m\u001b[0m\u001b[32mAdd /home/dsyer/dev/scratch/grpc-reflect/target/lib/netty-handler-proxy-4.1.118.Final.jar to classpath\n",
      "\u001b[0m\u001b[0m\u001b[32mAdd /home/dsyer/dev/scratch/grpc-reflect/target/lib/micrometer-observation-1.14.5.jar to classpath\n",
      "\u001b[0m\u001b[0m\u001b[32mAdd /home/dsyer/dev/scratch/grpc-reflect/target/lib/junit-platform-engine-1.11.4.jar to classpath\n",
      "\u001b[0m\u001b[0m\u001b[32mAdd /home/dsyer/dev/scratch/grpc-reflect/target/lib/annotations-4.1.1.4.jar to classpath\n",
      "\u001b[0m\u001b[0m\u001b[32mAdd /home/dsyer/dev/scratch/grpc-reflect/target/lib/spring-jcl-6.2.3.jar to classpath\n",
      "\u001b[0m\u001b[0m\u001b[32mAdd /home/dsyer/dev/scratch/grpc-reflect/target/lib/micrometer-commons-1.14.4.jar to classpath\n",
      "\u001b[0m\u001b[0m\u001b[32mAdd /home/dsyer/dev/scratch/grpc-reflect/target/lib/logback-core-1.5.16.jar to classpath\n",
      "\u001b[0m\u001b[0m\u001b[32mAdd /home/dsyer/dev/scratch/grpc-reflect/target/lib/jackson-annotations-2.18.2.jar to classpath\n",
      "\u001b[0m\u001b[0m\u001b[32mAdd /home/dsyer/dev/scratch/grpc-reflect/target/lib/jackson-annotations-2.18.3.jar to classpath\n",
      "\u001b[0m\u001b[0m\u001b[32mAdd /home/dsyer/dev/scratch/grpc-reflect/target/lib/spring-boot-actuator-3.4.3.jar to classpath\n",
      "\u001b[0m\u001b[0m\u001b[32mAdd /home/dsyer/dev/scratch/grpc-reflect/target/lib/netty-codec-http-4.1.118.Final.jar to classpath\n",
      "\u001b[0m\u001b[0m\u001b[32mAdd /home/dsyer/dev/scratch/grpc-reflect/target/lib/netty-transport-4.1.118.Final.jar to classpath\n",
      "\u001b[0m\u001b[0m\u001b[32mAdd /home/dsyer/dev/scratch/grpc-reflect/target/lib/awaitility-4.2.2.jar to classpath\n",
      "\u001b[0m\u001b[0m\u001b[32mAdd /home/dsyer/dev/scratch/grpc-reflect/target/lib/jackson-dataformat-protobuf-2.18.2.jar to classpath\n",
      "\u001b[0m\u001b[0m\u001b[32mAdd /home/dsyer/dev/scratch/grpc-reflect/target/lib/netty-handler-proxy-4.1.119.Final.jar to classpath\n",
      "\u001b[0m\u001b[0m\u001b[32mAdd /home/dsyer/dev/scratch/grpc-reflect/target/lib/spring-core-6.2.3.jar to classpath\n",
      "\u001b[0m\u001b[0m\u001b[32mAdd /home/dsyer/dev/scratch/grpc-reflect/target/lib/protoparser-4.0.3.jar to classpath\n",
      "\u001b[0m\u001b[0m\u001b[32mAdd /home/dsyer/dev/scratch/grpc-reflect/target/lib/micrometer-core-1.14.5.jar to classpath\n",
      "\u001b[0m\u001b[0m\u001b[32mAdd /home/dsyer/dev/scratch/grpc-reflect/target/lib/grpc-context-1.72.0.jar to classpath\n",
      "\u001b[0m\u001b[0m\u001b[32mAdd /home/dsyer/dev/scratch/grpc-reflect/target/lib/j2objc-annotations-3.0.0.jar to classpath\n",
      "\u001b[0m\u001b[0m\u001b[32mAdd /home/dsyer/dev/scratch/grpc-reflect/target/lib/netty-codec-http2-4.1.118.Final.jar to classpath\n",
      "\u001b[0m\u001b[0m\u001b[32mAdd /home/dsyer/dev/scratch/grpc-reflect/target/lib/listenablefuture-9999.0-empty-to-avoid-conflict-with-guava.jar to classpath\n",
      "\u001b[0m\u001b[0m\u001b[32mAdd /home/dsyer/dev/scratch/grpc-reflect/target/lib/spring-boot-3.4.4.jar to classpath\n",
      "\u001b[0m\u001b[0m\u001b[32mAdd /home/dsyer/dev/scratch/grpc-reflect/target/lib/netty-transport-classes-epoll-4.1.119.Final.jar to classpath\n",
      "\u001b[0m\u001b[0m\u001b[32mAdd /home/dsyer/dev/scratch/grpc-reflect/target/lib/error_prone_annotations-2.30.0.jar to classpath\n",
      "\u001b[0m\u001b[0m\u001b[32mAdd /home/dsyer/dev/scratch/grpc-reflect/target/lib/grpc-api-1.72.0.jar to classpath\n",
      "\u001b[0m\u001b[0m\u001b[32mAdd /home/dsyer/dev/scratch/grpc-reflect/target/lib/spring-beans-6.2.5.jar to classpath\n",
      "\u001b[0m\u001b[0m\u001b[32mAdd /home/dsyer/dev/scratch/grpc-reflect/target/lib/guava-33.3.1-jre.jar to classpath\n",
      "\u001b[0m\u001b[0m\u001b[32mAdd /home/dsyer/dev/scratch/grpc-reflect/target/lib/netty-transport-4.1.119.Final.jar to classpath\n",
      "\u001b[0m\u001b[0m\u001b[32mAdd /home/dsyer/dev/scratch/grpc-reflect/target/lib/junit-jupiter-api-5.11.4.jar to classpath\n",
      "\u001b[0m\u001b[0m\u001b[32mAdd /home/dsyer/dev/scratch/grpc-reflect/target/lib/grpc-protobuf-lite-1.72.0.jar to classpath\n",
      "\u001b[0m\u001b[0m\u001b[32mAdd /home/dsyer/dev/scratch/grpc-reflect/target/lib/netty-resolver-4.1.119.Final.jar to classpath\n",
      "\u001b[0m\u001b[0m\u001b[32mAdd /home/dsyer/dev/scratch/grpc-reflect/target/lib/checker-qual-3.43.0.jar to classpath\n",
      "\u001b[0m\u001b[0m\u001b[32mAdd /home/dsyer/dev/scratch/grpc-reflect/target/lib/spring-grpc-spring-boot-autoconfigure-0.8.0-SNAPSHOT.jar to classpath\n",
      "\u001b[0m\u001b[0m\u001b[32mAdd /home/dsyer/dev/scratch/grpc-reflect/target/lib/netty-codec-socks-4.1.119.Final.jar to classpath\n",
      "\u001b[0m\u001b[0m\u001b[32mAdd /home/dsyer/dev/scratch/grpc-reflect/target/lib/byte-buddy-agent-1.15.11.jar to classpath\n",
      "\u001b[0m\u001b[0m\u001b[32mAdd /home/dsyer/dev/scratch/grpc-reflect/target/lib/grpc-services-1.72.0.jar to classpath\n",
      "\u001b[0m\u001b[0m\u001b[32mAdd /home/dsyer/dev/scratch/grpc-reflect/target/lib/spring-boot-starter-logging-3.4.3.jar to classpath\n",
      "\u001b[0m\u001b[0m\u001b[32mAdd /home/dsyer/dev/scratch/grpc-reflect/target/lib/netty-transport-native-epoll-4.1.119.Final-linux-x86_64.jar to classpath\n",
      "\u001b[0m\u001b[0m\u001b[32mAdd /home/dsyer/dev/scratch/grpc-reflect/target/lib/netty-codec-http-4.1.119.Final.jar to classpath\n",
      "\u001b[0m\u001b[0m\u001b[32mAdd /home/dsyer/dev/scratch/grpc-reflect/target/lib/spring-boot-starter-actuator-3.4.3.jar to classpath\n",
      "\u001b[0m\u001b[0m\u001b[32mAdd /home/dsyer/dev/scratch/grpc-reflect/target/lib/hamcrest-2.2.jar to classpath\n",
      "\u001b[0m\u001b[0m\u001b[32mAdd /home/dsyer/dev/scratch/grpc-reflect/target/lib/netty-codec-http2-4.1.119.Final.jar to classpath\n",
      "\u001b[0m\u001b[0m\u001b[32mAdd /home/dsyer/dev/scratch/grpc-reflect/target/lib/logback-core-1.5.18.jar to classpath\n",
      "\u001b[0m\u001b[0m\u001b[32mAdd /home/dsyer/dev/scratch/grpc-reflect/target/lib/mockito-core-5.14.2.jar to classpath\n",
      "\u001b[0m\u001b[0m\u001b[32mAdd /home/dsyer/dev/scratch/grpc-reflect/target/lib/logback-classic-1.5.18.jar to classpath\n",
      "\u001b[0m\u001b[0m\u001b[32mAdd /home/dsyer/dev/scratch/grpc-reflect/target/lib/jsr305-3.0.2.jar to classpath\n",
      "\u001b[0m\u001b[0m\u001b[32mAdd /home/dsyer/dev/scratch/grpc-reflect/target/lib/spring-grpc-client-spring-boot-starter-0.8.0-SNAPSHOT.jar to classpath\n",
      "\u001b[0m\u001b[0m\u001b[32mAdd /home/dsyer/dev/scratch/grpc-reflect/target/lib/jackson-databind-2.18.3.jar to classpath\n",
      "\u001b[0m\u001b[0m\u001b[32mAdd /home/dsyer/dev/scratch/grpc-reflect/target/lib/spring-boot-test-autoconfigure-3.4.4.jar to classpath\n",
      "\u001b[0m\u001b[0m\u001b[32mAdd /home/dsyer/dev/scratch/grpc-reflect/target/lib/jackson-databind-2.18.2.jar to classpath\n",
      "\u001b[0m\u001b[0m\u001b[32mAdd /home/dsyer/dev/scratch/grpc-reflect/target/lib/apiguardian-api-1.1.2.jar to classpath\n",
      "\u001b[0m\u001b[0m\u001b[32mAdd /home/dsyer/dev/scratch/grpc-reflect/target/lib/failureaccess-1.0.2.jar to classpath\n",
      "\u001b[0m\u001b[0m\u001b[32mAdd /home/dsyer/dev/scratch/grpc-reflect/target/lib/spring-boot-test-autoconfigure-3.4.3.jar to classpath\n",
      "\u001b[0m\u001b[0m\u001b[32mAdd /home/dsyer/dev/scratch/grpc-reflect/target/lib/junit-jupiter-engine-5.11.4.jar to classpath\n",
      "\u001b[0m\u001b[0m\u001b[32mAdd /home/dsyer/dev/scratch/grpc-reflect/target/lib/grpc-core-1.72.0.jar to classpath\n",
      "\u001b[0m"
     ]
    }
   ],
   "source": [
    "%%jars\n",
    "target/lib"
   ]
  },
  {
   "cell_type": "code",
   "execution_count": 1,
   "metadata": {},
   "outputs": [
    {
     "name": "stdout",
     "output_type": "stream",
     "text": [
      "\u001b[0m\u001b[32mAdd /home/dsyer/dev/scratch/grpc-reflect/target/test-classes to classpath\n",
      "\u001b[0m\u001b[0m\u001b[32mAdd /home/dsyer/dev/scratch/grpc-reflect/target/classes to classpath\n",
      "\u001b[0m"
     ]
    }
   ],
   "source": [
    "%classpath target/test-classes/\n",
    "%classpath target/classes/"
   ]
  },
  {
   "cell_type": "code",
   "execution_count": 5,
   "metadata": {},
   "outputs": [
    {
     "name": "stdout",
     "output_type": "stream",
     "text": [
      "\n",
      "  .   ____          _            __ _ _\n",
      " /\\\\ / ___'_ __ _ _(_)_ __  __ _ \\ \\ \\ \\\n",
      "( ( )\\___ | '_ | '_| | '_ \\/ _` | \\ \\ \\ \\\n",
      " \\\\/  ___)| |_)| | | | | || (_| |  ) ) ) )\n",
      "  '  |____| .__|_| |_|_| |_\\__, | / / / /\n",
      " =========|_|==============|___/=/_/_/_/\n",
      "\n",
      " :: Spring Boot ::                (v3.4.3)\n",
      "\n"
     ]
    },
    {
     "name": "stderr",
     "output_type": "stream",
     "text": [
      "[Engine-thread-0] INFO org.springframework.boot.SpringApplication - Starting application using Java 22.0.2 with PID 424646 (started by dsyer in /home/dsyer/dev/scratch/grpc-reflect)\n",
      "[Engine-thread-0] INFO org.springframework.boot.SpringApplication - No active profile set, falling back to 1 default profile: \"default\"\n",
      "[Engine-thread-0] INFO org.springframework.grpc.server.NettyGrpcServerFactory - Registered gRPC service: Simple\n",
      "[Engine-thread-0] INFO org.springframework.grpc.server.NettyGrpcServerFactory - Registered gRPC service: grpc.reflection.v1.ServerReflection\n",
      "[Engine-thread-0] INFO org.springframework.grpc.server.NettyGrpcServerFactory - Registered gRPC service: grpc.health.v1.Health\n",
      "[Engine-thread-0] INFO org.springframework.grpc.server.lifecycle.GrpcServerLifecycle - gRPC Server started, listening on address: [/[0:0:0:0:0:0:0:0]:9090]\n",
      "[Engine-thread-0] INFO org.springframework.boot.SpringApplication - Started application in 2.087 seconds (process running for 104.788)\n"
     ]
    }
   ],
   "source": [
    "import org.springframework.grpc.sample.GrpcServerApplication;\n",
    "import org.springframework.boot.SpringApplication;\n",
    "var context = SpringApplication.run(GrpcServerApplication.class);"
   ]
  },
  {
   "cell_type": "code",
   "execution_count": 6,
   "metadata": {},
   "outputs": [
    {
     "name": "stderr",
     "output_type": "stream",
     "text": [
      "[Engine-thread-0] INFO org.springframework.grpc.server.lifecycle.GrpcServerLifecycle - Completed gRPC server shutdown\n"
     ]
    }
   ],
   "source": [
    "context.close()"
   ]
  },
  {
   "cell_type": "code",
   "execution_count": 42,
   "metadata": {},
   "outputs": [],
   "source": [
    "import org.springframework.grpc.sample.Foo;\n",
    "import com.fasterxml.jackson.dataformat.protobuf.ProtobufMapper;\n",
    "import com.fasterxml.jackson.dataformat.protobuf.schema.ProtobufSchemaLoader;"
   ]
  },
  {
   "cell_type": "code",
   "execution_count": 13,
   "metadata": {},
   "outputs": [],
   "source": [
    "var mapper = new ProtobufMapper();"
   ]
  },
  {
   "cell_type": "code",
   "execution_count": 15,
   "metadata": {},
   "outputs": [
    {
     "data": {
      "text/plain": [
       "// org.springframework.grpc.sample.Foo\n",
       "\n",
       "// Message for org.springframework.grpc.sample.Foo\n",
       "message Foo {\n",
       "  optional string name = 1;\n",
       "  optional int32 age = 2;\n",
       "}\n"
      ]
     },
     "execution_count": 15,
     "metadata": {},
     "output_type": "execute_result"
    }
   ],
   "source": [
    "mapper.generateSchemaFor(Foo.class)"
   ]
  },
  {
   "cell_type": "code",
   "execution_count": 18,
   "metadata": {},
   "outputs": [
    {
     "data": {
      "text/plain": [
       "\u001b[0m|    \u001b[1morg.springframework.context.ConfigurableApplicationContext \u001b[32mcontext\u001b[0m = \u001b[0morg.springframework.context.annotation.AnnotationConfigApplicationContext@6dabcc1b, started on Thu Apr 24 12:55:07 BST 2025\n",
       "\u001b[0m\u001b[0m|    \u001b[1mProtobufMapper \u001b[32mmapper\u001b[0m = \u001b[0mcom.fasterxml.jackson.dataformat.protobuf.ProtobufMapper@3561278d\n",
       "\u001b[0m\u001b[0m|    \u001b[1mcom.fasterxml.jackson.dataformat.protobuf.schema.FileDescriptorSet \u001b[32m$1\u001b[0m = \u001b[0mnull\n",
       "\u001b[0m\u001b[0m|    \u001b[1mcom.fasterxml.jackson.dataformat.protobuf.schema.ProtobufSchema \u001b[32m$2\u001b[0m = \u001b[0m// org.springframework.grpc.sample.Foo\n",
       "\n",
       "// Message for org.springframework.grpc.sample.Foo\n",
       "message Foo {\n",
       "  optional string name = 1;\n",
       "  optional int32 age = 2;\n",
       "}\n",
       "\n",
       "\u001b[0m\u001b[0m|    \u001b[1mcom.fasterxml.jackson.dataformat.protobuf.schema.ProtobufSchema \u001b[32m$3\u001b[0m = \u001b[0m// org.springframework.grpc.sample.GrpcServerService\n",
       "\n",
       "// Message for org.springframework.grpc.sample.GrpcServerService\n",
       "message GrpcServerService {}\n",
       "\n",
       "\u001b[0m"
      ]
     },
     "execution_count": 18,
     "metadata": {},
     "output_type": "execute_result"
    }
   ],
   "source": [
    "%jshell /vars"
   ]
  },
  {
   "cell_type": "code",
   "execution_count": 21,
   "metadata": {},
   "outputs": [],
   "source": [
    "var ds = mapper.loadDescriptorSet(\n",
    "\tnew File(\"foo.pb\")\n",
    ");"
   ]
  },
  {
   "cell_type": "code",
   "execution_count": 39,
   "metadata": {},
   "outputs": [
    {
     "data": {
      "text/plain": [
       "EchoRequest"
      ]
     },
     "execution_count": 39,
     "metadata": {},
     "output_type": "execute_result"
    }
   ],
   "source": [
    "ds.getFile()[0].message_type[0].name"
   ]
  },
  {
   "cell_type": "code",
   "execution_count": 44,
   "metadata": {},
   "outputs": [],
   "source": [
    "import org.springframework.core.io.FileSystemResource;\n",
    "import org.springframework.util.StreamUtils;\n",
    "var resource = new FileSystemResource(\"src/main/proto/foo.proto\");"
   ]
  },
  {
   "cell_type": "code",
   "execution_count": 53,
   "metadata": {},
   "outputs": [],
   "source": [
    "var schema = ProtobufSchemaLoader.std.load(resource.getInputStream());"
   ]
  },
  {
   "cell_type": "code",
   "execution_count": 56,
   "metadata": {},
   "outputs": [
    {
     "data": {
      "text/plain": [
       "[EchoRequest]"
      ]
     },
     "execution_count": 56,
     "metadata": {},
     "output_type": "execute_result"
    }
   ],
   "source": [
    "schema.getMessageTypes()"
   ]
  },
  {
   "cell_type": "code",
   "execution_count": 58,
   "metadata": {},
   "outputs": [],
   "source": [
    "var foos = mapper.generateSchemaFor(Foo.class);"
   ]
  },
  {
   "cell_type": "code",
   "execution_count": 59,
   "metadata": {},
   "outputs": [
    {
     "data": {
      "text/plain": [
       "// org.springframework.grpc.sample.Foo\n",
       "\n",
       "// Message for org.springframework.grpc.sample.Foo\n",
       "message Foo {\n",
       "  optional string name = 1;\n",
       "  optional int32 age = 2;\n",
       "}\n"
      ]
     },
     "execution_count": 59,
     "metadata": {},
     "output_type": "execute_result"
    }
   ],
   "source": [
    "foos.getSource()"
   ]
  },
  {
   "cell_type": "code",
   "execution_count": 3,
   "metadata": {},
   "outputs": [],
   "source": [
    "import com.google.protobuf.DescriptorProtos.FileDescriptorProto;\n",
    "import com.google.protobuf.DescriptorProtos.DescriptorProto;\n",
    "import com.google.protobuf.DescriptorProtos.FieldDescriptorProto;\n",
    "import com.google.protobuf.DescriptorProtos.ServiceDescriptorProto;\n",
    "import com.google.protobuf.DescriptorProtos.MethodDescriptorProto;"
   ]
  },
  {
   "cell_type": "code",
   "execution_count": 4,
   "metadata": {},
   "outputs": [],
   "source": [
    "import com.google.protobuf.Descriptors.FileDescriptor;\n",
    "import com.google.protobuf.Descriptors.Descriptor;\n",
    "import com.google.protobuf.Descriptors.FieldDescriptor;"
   ]
  },
  {
   "cell_type": "markdown",
   "metadata": {},
   "source": [
    "The `FileDescriptorProto` only parses binary data, so we need to convert the text \".proto\" file to binary format. The `protoc` compiler can do this for us. The command is as follows:\n",
    "\n",
    "```bash\n",
    "protoc --descriptor_set_out=./foo.pb src/main/proto/foo.proto\n",
    "```"
   ]
  },
  {
   "cell_type": "code",
   "execution_count": 72,
   "metadata": {},
   "outputs": [
    {
     "data": {
      "text/plain": [
       "name: \"\\n\\030src/main/proto/foo.proto\\\"!\\n\\vEchoRequest\\022\\022\\n\\004name\\030\\001 \\001(\\tR\\004name2+\\n\\003Foo\\022$\\n\\004Echo\\022\\f.EchoRequest\\032\\f.EchoRequest\\\"\\000B3\\n%org.springframework.grpc.sample.protoB\\bFooProtoP\\001b\\006proto3\"\n"
      ]
     },
     "execution_count": 72,
     "metadata": {},
     "output_type": "execute_result"
    }
   ],
   "source": [
    "FileDescriptorProto.parseFrom(new FileSystemResource(\"foo.pb\").getInputStream());"
   ]
  },
  {
   "cell_type": "code",
   "execution_count": 68,
   "metadata": {},
   "outputs": [],
   "source": [
    "import com.squareup.protoparser.ProtoParser;"
   ]
  },
  {
   "cell_type": "markdown",
   "metadata": {},
   "source": [
    "The old Square `protoparser` library can also be used to parse the `.proto` file as follows:"
   ]
  },
  {
   "cell_type": "code",
   "execution_count": 75,
   "metadata": {},
   "outputs": [
    {
     "data": {
      "text/plain": [
       "ProtoFile{filePath=foo.proto, packageName=null, syntax=PROTO_3, dependencies=[], publicDependencies=[], typeElements=[MessageElement{name=EchoRequest, qualifiedName=EchoRequest, documentation=, fields=[FieldElement{label=OPTIONAL, type=string, name=name, tag=1, documentation=, options=[]}], oneOfs=[], nestedElements=[], extensions=[], options=[]}], services=[ServiceElement{name=Foo, qualifiedName=Foo, documentation=, rpcs=[RpcElement{name=Echo, documentation=Sends a greeting, requestType=EchoRequest, responseType=EchoRequest, options=[]}], options=[]}], extendDeclarations=[], options=[OptionElement{name=java_multiple_files, kind=BOOLEAN, value=true, isParenthesized=false}, OptionElement{name=java_package, kind=STRING, value=org.springframework.grpc.sample.proto, isParenthesized=false}, OptionElement{name=java_outer_classname, kind=STRING, value=FooProto, isParenthesized=false}]}"
      ]
     },
     "execution_count": 75,
     "metadata": {},
     "output_type": "execute_result"
    }
   ],
   "source": [
    "var file = ProtoParser.parseUtf8(\"foo.proto\", resource.getInputStream());\n",
    "file"
   ]
  },
  {
   "cell_type": "markdown",
   "metadata": {},
   "source": [
    "It says \"syntax=PROTO_3\" in the output, but it is actually using proto2 (and will not parse messages that contain implicit \"optional\" fields). The `protoparser` library is not recommended for use in new projects, as it is deprecated. It is probably better to use the `protoc` compiler to generate the binary descriptor file.\n"
   ]
  },
  {
   "cell_type": "code",
   "execution_count": 5,
   "metadata": {},
   "outputs": [],
   "source": [
    "import com.google.protobuf.GeneratedMessage;\n",
    "import com.google.protobuf.DynamicMessage;"
   ]
  },
  {
   "cell_type": "markdown",
   "metadata": {},
   "source": [
    "You can build a descriptor file from the field metadata reflectively:"
   ]
  },
  {
   "cell_type": "code",
   "execution_count": 6,
   "metadata": {},
   "outputs": [],
   "source": [
    "var foot = DescriptorProto.newBuilder()\n",
    ".setName(\"Foo\")\n",
    ".addField(\n",
    "\tFieldDescriptorProto.newBuilder()\n",
    "\t\t.setName(\"name\")\n",
    "\t\t.setNumber(1)\n",
    "\t\t.setType(FieldDescriptorProto.Type.TYPE_STRING)\n",
    ")\n",
    ".addField(\n",
    "\tFieldDescriptorProto.newBuilder()\n",
    "\t\t.setName(\"age\")\n",
    "\t\t.setNumber(2)\n",
    "\t\t.setType(FieldDescriptorProto.Type.TYPE_INT32)\n",
    ").build();\n",
    "var food = FileDescriptorProto.newBuilder()\n",
    "\t.setName(\"foo.proto\")\n",
    "\t.setSyntax(\"proto3\")\n",
    "\t.addMessageType(foot).build()"
   ]
  },
  {
   "cell_type": "code",
   "execution_count": 94,
   "metadata": {},
   "outputs": [
    {
     "data": {
      "text/plain": [
       "name: \"foo.proto\"\n",
       "message_type {\n",
       "  name: \"Foo\"\n",
       "  field {\n",
       "    name: \"name\"\n",
       "    number: 1\n",
       "    type: TYPE_STRING\n",
       "  }\n",
       "  field {\n",
       "    name: \"age\"\n",
       "    number: 2\n",
       "    type: TYPE_INT32\n",
       "  }\n",
       "}\n",
       "syntax: \"proto3\"\n"
      ]
     },
     "execution_count": 94,
     "metadata": {},
     "output_type": "execute_result"
    }
   ],
   "source": [
    "food"
   ]
  },
  {
   "cell_type": "code",
   "execution_count": 98,
   "metadata": {},
   "outputs": [
    {
     "data": {
      "text/plain": [
       "class com.google.protobuf.DescriptorProtos$DescriptorProto"
      ]
     },
     "execution_count": 98,
     "metadata": {},
     "output_type": "execute_result"
    }
   ],
   "source": [
    "food.getMessageType(0).getClass()"
   ]
  },
  {
   "cell_type": "markdown",
   "metadata": {},
   "source": [
    "To open up reflection for the fields in a message you need a `FileDescriptor`. The file descriptor has a list of message types that are themselves each a `Descriptor`. This is the `Descriptor` for the `Foo` message:\n"
   ]
  },
  {
   "cell_type": "code",
   "execution_count": 121,
   "metadata": {},
   "outputs": [],
   "source": [
    "var desc = FileDescriptor.buildFrom(food, new FileDescriptor[0]).getMessageTypes().get(0)"
   ]
  },
  {
   "cell_type": "code",
   "execution_count": 145,
   "metadata": {},
   "outputs": [
    {
     "data": {
      "text/plain": [
       "Foo"
      ]
     },
     "execution_count": 145,
     "metadata": {},
     "output_type": "execute_result"
    }
   ],
   "source": [
    "desc.getName()"
   ]
  },
  {
   "cell_type": "markdown",
   "metadata": {},
   "source": [
    "Now `desc` is the \"pure\" form of the `DescriptorProto` called `foot`. A `Descriptor` can be inspected to pull out field metadata:"
   ]
  },
  {
   "cell_type": "code",
   "execution_count": 141,
   "metadata": {},
   "outputs": [
    {
     "data": {
      "text/plain": [
       "name: \"name\"\n",
       "number: 1\n",
       "type: TYPE_STRING\n"
      ]
     },
     "execution_count": 141,
     "metadata": {},
     "output_type": "execute_result"
    }
   ],
   "source": [
    "desc.findFieldByName(\"name\").toProto()"
   ]
  },
  {
   "cell_type": "code",
   "execution_count": 126,
   "metadata": {},
   "outputs": [],
   "source": [
    "import com.google.protobuf.*;"
   ]
  },
  {
   "cell_type": "code",
   "execution_count": 147,
   "metadata": {},
   "outputs": [
    {
     "data": {
      "text/plain": [
       "name: \"foo\"\n"
      ]
     },
     "execution_count": 147,
     "metadata": {},
     "output_type": "execute_result"
    }
   ],
   "source": [
    "DynamicMessage.newBuilder(desc).setField(\n",
    "\tdesc.findFieldByName(\"name\"), \"foo\"\n",
    ").build()"
   ]
  },
  {
   "cell_type": "code",
   "execution_count": 9,
   "metadata": {},
   "outputs": [],
   "source": [
    "var echo = ServiceDescriptorProto.newBuilder()\n",
    "\t.setName(\"FooService\")\n",
    "\t.addMethod(\n",
    "\t\tMethodDescriptorProto.newBuilder()\n",
    "\t\t\t.setName(\"Echo\")\n",
    "\t\t\t.setInputType(\"Foo\")\n",
    "\t\t\t.setOutputType(\"Foo\")\n",
    "\t\t\t.build()\n",
    "\t).build();"
   ]
  },
  {
   "cell_type": "code",
   "execution_count": 10,
   "metadata": {},
   "outputs": [
    {
     "data": {
      "text/plain": [
       "name: \"foo.proto\"\n",
       "message_type {\n",
       "  name: \"Foo\"\n",
       "  field {\n",
       "    name: \"name\"\n",
       "    number: 1\n",
       "    type: TYPE_STRING\n",
       "  }\n",
       "  field {\n",
       "    name: \"age\"\n",
       "    number: 2\n",
       "    type: TYPE_INT32\n",
       "  }\n",
       "}\n",
       "service {\n",
       "  name: \"FooService\"\n",
       "  method {\n",
       "    name: \"Echo\"\n",
       "    input_type: \"Foo\"\n",
       "    output_type: \"Foo\"\n",
       "  }\n",
       "}\n",
       "syntax: \"proto3\"\n"
      ]
     },
     "execution_count": 10,
     "metadata": {},
     "output_type": "execute_result"
    }
   ],
   "source": [
    "FileDescriptorProto.newBuilder()\n",
    "\t.setName(\"foo.proto\")\n",
    "\t.setSyntax(\"proto3\")\n",
    "\t.addMessageType(foot)\n",
    "\t.addService(echo)\n",
    "\t.build()"
   ]
  }
 ],
 "metadata": {
  "kernelspec": {
   "display_name": "java (Rapaio/j!)",
   "language": "java",
   "name": "jbang-rapaio"
  },
  "language_info": {
   "codemirror_mode": "java",
   "file_extension": ".jshell",
   "mimetype": "text/x-java-source",
   "name": "java",
   "nbconvert_exporter": "script",
   "pygments_lexer": "java",
   "version": "22.0.2+9"
  }
 },
 "nbformat": 4,
 "nbformat_minor": 2
}
